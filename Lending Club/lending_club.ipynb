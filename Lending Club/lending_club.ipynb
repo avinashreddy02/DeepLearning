{
 "cells": [
  {
   "cell_type": "markdown",
   "metadata": {},
   "source": [
    "# LendingClub: Predict Loan Charge-Offs \n"
   ]
  },
  {
   "cell_type": "markdown",
   "metadata": {},
   "source": [
    "## 1. Project Description <a id = '1'></a>"
   ]
  },
  {
   "cell_type": "markdown",
   "metadata": {},
   "source": [
    "In this project, we analyze the loan data of LendingClub for 2 years.  The data explores the demographic dimensions of personal loans and loan status (fully paid/ charged off), which is available on their website once you create an account.\n",
    "\n",
    "Our goal is to identify the risk of unsecured personal loans. Specifically, a machine learning model will be developed to predict the probability of full payment and charge off. which will help in investors identifying which loans to invest in "
   ]
  },
  {
   "cell_type": "markdown",
   "metadata": {},
   "source": [
    "## 2. Import Libraries <a id = '2'></a>"
   ]
  },
  {
   "cell_type": "code",
   "execution_count": 66,
   "metadata": {},
   "outputs": [],
   "source": [
    "import glob\n",
    "import datetime\n",
    "import pandas as pd\n",
    "import numpy as np\n",
    "import seaborn as sns\n",
    "import matplotlib\n",
    "import matplotlib.pyplot as plt\n",
    "\n",
    "\n",
    "sns.set(style = 'ticks')\n",
    "%matplotlib inline\n",
    "matplotlib.rcParams['figure.dpi'] = 122\n",
    "\n",
    "\n",
    "from sklearn.preprocessing import StandardScaler\n",
    "from sklearn.model_selection import train_test_split\n",
    "from sklearn.feature_selection import SelectFromModel\n",
    "from sklearn.pipeline import FeatureUnion, Pipeline\n",
    "from sklearn.metrics import accuracy_score,classification_report\n",
    "from sklearn.metrics import roc_auc_score, roc_curve,precision_score, recall_score, precision_recall_curve\n"
   ]
  },
  {
   "cell_type": "markdown",
   "metadata": {},
   "source": [
    "## 3. Data Collection and Pre-Processing <a id = '3'></a>"
   ]
  },
  {
   "cell_type": "markdown",
   "metadata": {},
   "source": [
    "Before loading the datasets into the notebook, unformatted rows of texts in each dataset have been removed. "
   ]
  },
  {
   "cell_type": "code",
   "execution_count": 91,
   "metadata": {},
   "outputs": [
    {
     "name": "stderr",
     "output_type": "stream",
     "text": [
      "c:\\users\\avina\\anaconda3\\lib\\site-packages\\IPython\\core\\interactiveshell.py:2718: DtypeWarning: Columns (40) have mixed types. Specify dtype option on import or set low_memory=False.\n",
      "  interactivity=interactivity, compiler=compiler, result=result)\n",
      "c:\\users\\avina\\anaconda3\\lib\\site-packages\\IPython\\core\\interactiveshell.py:2718: DtypeWarning: Columns (99) have mixed types. Specify dtype option on import or set low_memory=False.\n",
      "  interactivity=interactivity, compiler=compiler, result=result)\n"
     ]
    }
   ],
   "source": [
    "filenames = glob.glob(\"*.csv.gz\")\n",
    "\n",
    "DataFrame = []\n",
    "for f in filenames:\n",
    "    \n",
    "   DataFrame.append(pd.read_csv(f,compression = 'gzip'))\n",
    "\n",
    "df = pd.concat(DataFrame)"
   ]
  },
  {
   "cell_type": "code",
   "execution_count": 3,
   "metadata": {},
   "outputs": [
    {
     "data": {
      "text/html": [
       "<div>\n",
       "<style scoped>\n",
       "    .dataframe tbody tr th:only-of-type {\n",
       "        vertical-align: middle;\n",
       "    }\n",
       "\n",
       "    .dataframe tbody tr th {\n",
       "        vertical-align: top;\n",
       "    }\n",
       "\n",
       "    .dataframe thead th {\n",
       "        text-align: right;\n",
       "    }\n",
       "</style>\n",
       "<table border=\"1\" class=\"dataframe\">\n",
       "  <thead>\n",
       "    <tr style=\"text-align: right;\">\n",
       "      <th></th>\n",
       "      <th>id</th>\n",
       "      <th>funded_amnt</th>\n",
       "      <th>term</th>\n",
       "      <th>int_rate</th>\n",
       "      <th>installment</th>\n",
       "      <th>sub_grade</th>\n",
       "      <th>emp_title</th>\n",
       "      <th>emp_length</th>\n",
       "      <th>home_ownership</th>\n",
       "      <th>annual_inc</th>\n",
       "      <th>...</th>\n",
       "      <th>sec_app_earliest_cr_line</th>\n",
       "      <th>sec_app_inq_last_6mths</th>\n",
       "      <th>sec_app_mort_acc</th>\n",
       "      <th>sec_app_open_acc</th>\n",
       "      <th>sec_app_revol_util</th>\n",
       "      <th>sec_app_open_act_il</th>\n",
       "      <th>sec_app_num_rev_accts</th>\n",
       "      <th>sec_app_chargeoff_within_12_mths</th>\n",
       "      <th>sec_app_collections_12_mths_ex_med</th>\n",
       "      <th>sec_app_mths_since_last_major_derog</th>\n",
       "    </tr>\n",
       "  </thead>\n",
       "  <tbody>\n",
       "    <tr>\n",
       "      <th>0</th>\n",
       "      <td>75910406</td>\n",
       "      <td>8400</td>\n",
       "      <td>36 months</td>\n",
       "      <td>9.75%</td>\n",
       "      <td>270.06</td>\n",
       "      <td>B3</td>\n",
       "      <td>RV Tech</td>\n",
       "      <td>2 years</td>\n",
       "      <td>MORTGAGE</td>\n",
       "      <td>66000.0</td>\n",
       "      <td>...</td>\n",
       "      <td>NaN</td>\n",
       "      <td>NaN</td>\n",
       "      <td>NaN</td>\n",
       "      <td>NaN</td>\n",
       "      <td>NaN</td>\n",
       "      <td>NaN</td>\n",
       "      <td>NaN</td>\n",
       "      <td>NaN</td>\n",
       "      <td>NaN</td>\n",
       "      <td>NaN</td>\n",
       "    </tr>\n",
       "    <tr>\n",
       "      <th>1</th>\n",
       "      <td>75768614</td>\n",
       "      <td>12000</td>\n",
       "      <td>36 months</td>\n",
       "      <td>7.89%</td>\n",
       "      <td>375.43</td>\n",
       "      <td>A5</td>\n",
       "      <td>facility manager</td>\n",
       "      <td>3 years</td>\n",
       "      <td>OWN</td>\n",
       "      <td>45000.0</td>\n",
       "      <td>...</td>\n",
       "      <td>NaN</td>\n",
       "      <td>NaN</td>\n",
       "      <td>NaN</td>\n",
       "      <td>NaN</td>\n",
       "      <td>NaN</td>\n",
       "      <td>NaN</td>\n",
       "      <td>NaN</td>\n",
       "      <td>NaN</td>\n",
       "      <td>NaN</td>\n",
       "      <td>NaN</td>\n",
       "    </tr>\n",
       "    <tr>\n",
       "      <th>2</th>\n",
       "      <td>75650131</td>\n",
       "      <td>28000</td>\n",
       "      <td>36 months</td>\n",
       "      <td>7.39%</td>\n",
       "      <td>869.57</td>\n",
       "      <td>A4</td>\n",
       "      <td>graphic designer ii</td>\n",
       "      <td>1 year</td>\n",
       "      <td>RENT</td>\n",
       "      <td>60000.0</td>\n",
       "      <td>...</td>\n",
       "      <td>NaN</td>\n",
       "      <td>NaN</td>\n",
       "      <td>NaN</td>\n",
       "      <td>NaN</td>\n",
       "      <td>NaN</td>\n",
       "      <td>NaN</td>\n",
       "      <td>NaN</td>\n",
       "      <td>NaN</td>\n",
       "      <td>NaN</td>\n",
       "      <td>NaN</td>\n",
       "    </tr>\n",
       "    <tr>\n",
       "      <th>3</th>\n",
       "      <td>76084025</td>\n",
       "      <td>10000</td>\n",
       "      <td>36 months</td>\n",
       "      <td>13.67%</td>\n",
       "      <td>340.18</td>\n",
       "      <td>C3</td>\n",
       "      <td>Cantor</td>\n",
       "      <td>10+ years</td>\n",
       "      <td>RENT</td>\n",
       "      <td>70000.0</td>\n",
       "      <td>...</td>\n",
       "      <td>NaN</td>\n",
       "      <td>NaN</td>\n",
       "      <td>NaN</td>\n",
       "      <td>NaN</td>\n",
       "      <td>NaN</td>\n",
       "      <td>NaN</td>\n",
       "      <td>NaN</td>\n",
       "      <td>NaN</td>\n",
       "      <td>NaN</td>\n",
       "      <td>NaN</td>\n",
       "    </tr>\n",
       "    <tr>\n",
       "      <th>4</th>\n",
       "      <td>76003313</td>\n",
       "      <td>20000</td>\n",
       "      <td>36 months</td>\n",
       "      <td>11.99%</td>\n",
       "      <td>664.20</td>\n",
       "      <td>C1</td>\n",
       "      <td>rn case manager</td>\n",
       "      <td>10+ years</td>\n",
       "      <td>MORTGAGE</td>\n",
       "      <td>49000.0</td>\n",
       "      <td>...</td>\n",
       "      <td>NaN</td>\n",
       "      <td>NaN</td>\n",
       "      <td>NaN</td>\n",
       "      <td>NaN</td>\n",
       "      <td>NaN</td>\n",
       "      <td>NaN</td>\n",
       "      <td>NaN</td>\n",
       "      <td>NaN</td>\n",
       "      <td>NaN</td>\n",
       "      <td>NaN</td>\n",
       "    </tr>\n",
       "  </tbody>\n",
       "</table>\n",
       "<p>5 rows × 109 columns</p>\n",
       "</div>"
      ],
      "text/plain": [
       "         id  funded_amnt        term int_rate  installment sub_grade  \\\n",
       "0  75910406         8400   36 months    9.75%       270.06        B3   \n",
       "1  75768614        12000   36 months    7.89%       375.43        A5   \n",
       "2  75650131        28000   36 months    7.39%       869.57        A4   \n",
       "3  76084025        10000   36 months   13.67%       340.18        C3   \n",
       "4  76003313        20000   36 months   11.99%       664.20        C1   \n",
       "\n",
       "             emp_title emp_length home_ownership  annual_inc  ...  \\\n",
       "0              RV Tech    2 years       MORTGAGE     66000.0  ...   \n",
       "1     facility manager    3 years            OWN     45000.0  ...   \n",
       "2  graphic designer ii     1 year           RENT     60000.0  ...   \n",
       "3               Cantor  10+ years           RENT     70000.0  ...   \n",
       "4      rn case manager  10+ years       MORTGAGE     49000.0  ...   \n",
       "\n",
       "  sec_app_earliest_cr_line sec_app_inq_last_6mths sec_app_mort_acc  \\\n",
       "0                      NaN                    NaN              NaN   \n",
       "1                      NaN                    NaN              NaN   \n",
       "2                      NaN                    NaN              NaN   \n",
       "3                      NaN                    NaN              NaN   \n",
       "4                      NaN                    NaN              NaN   \n",
       "\n",
       "  sec_app_open_acc sec_app_revol_util sec_app_open_act_il  \\\n",
       "0              NaN                NaN                 NaN   \n",
       "1              NaN                NaN                 NaN   \n",
       "2              NaN                NaN                 NaN   \n",
       "3              NaN                NaN                 NaN   \n",
       "4              NaN                NaN                 NaN   \n",
       "\n",
       "  sec_app_num_rev_accts  sec_app_chargeoff_within_12_mths  \\\n",
       "0                   NaN                               NaN   \n",
       "1                   NaN                               NaN   \n",
       "2                   NaN                               NaN   \n",
       "3                   NaN                               NaN   \n",
       "4                   NaN                               NaN   \n",
       "\n",
       "   sec_app_collections_12_mths_ex_med sec_app_mths_since_last_major_derog  \n",
       "0                                 NaN                                 NaN  \n",
       "1                                 NaN                                 NaN  \n",
       "2                                 NaN                                 NaN  \n",
       "3                                 NaN                                 NaN  \n",
       "4                                 NaN                                 NaN  \n",
       "\n",
       "[5 rows x 109 columns]"
      ]
     },
     "execution_count": 3,
     "metadata": {},
     "output_type": "execute_result"
    }
   ],
   "source": [
    "df.head()"
   ]
  },
  {
   "cell_type": "code",
   "execution_count": 4,
   "metadata": {},
   "outputs": [
    {
     "name": "stdout",
     "output_type": "stream",
     "text": [
      "<class 'pandas.core.frame.DataFrame'>\n",
      "Int64Index: 877986 entries, 0 to 118647\n",
      "Columns: 109 entries, id to sec_app_mths_since_last_major_derog\n",
      "dtypes: float64(47), int64(42), object(20)\n",
      "memory usage: 736.8+ MB\n"
     ]
    }
   ],
   "source": [
    "df.info()"
   ]
  },
  {
   "cell_type": "markdown",
   "metadata": {},
   "source": [
    "The original data has more than 0.8 million records and 109 features."
   ]
  },
  {
   "cell_type": "markdown",
   "metadata": {},
   "source": [
    "### 3.1 Assumptions<a id = '3.1'></a>"
   ]
  },
  {
   "cell_type": "markdown",
   "metadata": {},
   "source": [
    "`Assumption 1`"
   ]
  },
  {
   "cell_type": "code",
   "execution_count": 5,
   "metadata": {},
   "outputs": [
    {
     "data": {
      "text/plain": [
       "Current               503359\n",
       "Fully Paid            264241\n",
       "Charged Off            81570\n",
       "Late (31-120 days)     16259\n",
       "In Grace Period         8052\n",
       "Late (16-30 days)       4505\n",
       "Name: loan_status, dtype: int64"
      ]
     },
     "execution_count": 5,
     "metadata": {},
     "output_type": "execute_result"
    }
   ],
   "source": [
    "df['loan_status'].value_counts()"
   ]
  },
  {
   "cell_type": "markdown",
   "metadata": {},
   "source": [
    "**Modeling**: \"loan_status\" is the `target variable`. Because we are predicting whether the loan would be paid off, we just keep loans with status `'Fully paid'` and `'Charged Off'` and considering 'Late (31-120)' and 'Late (16-30 days)' as as bad loans as well \n"
   ]
  },
  {
   "cell_type": "markdown",
   "metadata": {},
   "source": [
    "`Assumption 2`"
   ]
  },
  {
   "cell_type": "markdown",
   "metadata": {},
   "source": [
    "Next, Based on the provided data dictionairy, dropping features with posterior knowledge about our target variable - loan status ie these would not be available unless the loan is processed. This is also known as data leakage. Leakage happens when it is attempted to build a model with data that is not available during prediction. This causes incorrect modeling to happen as they will not be generalizable. and by checking the NAN values in the data Here we are going to drop out columns with missing value ratio greater than 0.3"
   ]
  },
  {
   "cell_type": "code",
   "execution_count": 92,
   "metadata": {},
   "outputs": [
    {
     "name": "stdout",
     "output_type": "stream",
     "text": [
      "21\n"
     ]
    },
    {
     "data": {
      "text/plain": [
       "(877986, 88)"
      ]
     },
     "execution_count": 92,
     "metadata": {},
     "output_type": "execute_result"
    }
   ],
   "source": [
    "nan_mean = df.isna().mean()\n",
    "nan_mean = nan_mean[nan_mean != 0].sort_values(ascending=False)\n",
    "nan_mean.head(30)\n",
    "\n",
    "drop_list_columns = sorted(list(nan_mean[nan_mean>0.3].index))\n",
    "drop_list_columns\n",
    "print(len(drop_list_columns))\n",
    "\n",
    "df.drop(labels = drop_list_columns,axis=1,inplace = True)\n",
    "df.shape"
   ]
  },
  {
   "cell_type": "code",
   "execution_count": 93,
   "metadata": {},
   "outputs": [
    {
     "data": {
      "text/plain": [
       "(877986, 45)"
      ]
     },
     "execution_count": 93,
     "metadata": {},
     "output_type": "execute_result"
    }
   ],
   "source": [
    "drop_cols = ['id','zip_code', 'last_credit_pull_d', 'last_fico_range_high','last_fico_range_low',\n",
    "'collections_12_mths_ex_med','bc_open_to_buy', 'bc_util','mths_since_recent_inq',\n",
    "'num_actv_bc_tl','num_actv_rev_tl','num_bc_sats','num_bc_tl','num_il_tl', 'num_op_rev_tl', 'num_rev_accts', \n",
    "'num_rev_tl_bal_gt_0', 'num_sats','total_cu_tl','inq_fi','all_util','num_tl_30dpd','pct_tl_nvr_dlq','tax_liens',\n",
    "'total_il_high_credit_limit','open_rv_12m','open_rv_24m','mo_sin_old_rev_tl_op','total_rev_hi_lim','il_util',\n",
    "'open_acc_6m','open_act_il','open_il_12m','open_il_24m','mths_since_rcnt_il','total_bal_il','mo_sin_old_il_acct',\n",
    "'inq_last_6mths','out_prncp','inq_last_12m','acc_open_past_24mths','max_bal_bc','earliest_cr_line']\n",
    "\n",
    "\n",
    "df.drop(columns = drop_cols,inplace = True)\n",
    "df.shape"
   ]
  },
  {
   "cell_type": "code",
   "execution_count": 94,
   "metadata": {},
   "outputs": [
    {
     "name": "stdout",
     "output_type": "stream",
     "text": [
      "(366575, 45)\n"
     ]
    }
   ],
   "source": [
    "# selecting data as per loan status \n",
    "\n",
    "df = df.loc[df['loan_status'].isin(['Fully Paid', 'Charged Off', 'Late (31-120 days)','Late (16-30 days)'])]\n",
    "print(df.shape)"
   ]
  },
  {
   "cell_type": "code",
   "execution_count": 9,
   "metadata": {},
   "outputs": [
    {
     "name": "stdout",
     "output_type": "stream",
     "text": [
      "<class 'pandas.core.frame.DataFrame'>\n",
      "Int64Index: 366575 entries, 0 to 118644\n",
      "Data columns (total 45 columns):\n",
      "funded_amnt                 366575 non-null int64\n",
      "term                        366575 non-null object\n",
      "int_rate                    366575 non-null object\n",
      "installment                 366575 non-null float64\n",
      "sub_grade                   366575 non-null object\n",
      "emp_title                   341894 non-null object\n",
      "emp_length                  342137 non-null object\n",
      "home_ownership              366575 non-null object\n",
      "annual_inc                  366575 non-null float64\n",
      "verification_status         366575 non-null object\n",
      "issue_d                     366575 non-null object\n",
      "loan_status                 366575 non-null object\n",
      "purpose                     366575 non-null object\n",
      "title                       353574 non-null object\n",
      "addr_state                  366575 non-null object\n",
      "dti                         366416 non-null float64\n",
      "delinq_2yrs                 366575 non-null int64\n",
      "fico_range_low              366575 non-null int64\n",
      "fico_range_high             366575 non-null int64\n",
      "open_acc                    366575 non-null int64\n",
      "pub_rec                     366575 non-null int64\n",
      "revol_bal                   366575 non-null int64\n",
      "revol_util                  366315 non-null object\n",
      "total_acc                   366575 non-null int64\n",
      "initial_list_status         366575 non-null object\n",
      "application_type            366575 non-null object\n",
      "acc_now_delinq              366575 non-null int64\n",
      "tot_coll_amt                366575 non-null int64\n",
      "tot_cur_bal                 366575 non-null int64\n",
      "avg_cur_bal                 366572 non-null float64\n",
      "chargeoff_within_12_mths    366575 non-null int64\n",
      "delinq_amnt                 366575 non-null int64\n",
      "mo_sin_rcnt_rev_tl_op       366575 non-null int64\n",
      "mo_sin_rcnt_tl              366575 non-null int64\n",
      "mort_acc                    366575 non-null int64\n",
      "mths_since_recent_bc        362391 non-null float64\n",
      "num_accts_ever_120_pd       366575 non-null int64\n",
      "num_tl_120dpd_2m            348407 non-null float64\n",
      "num_tl_90g_dpd_24m          366575 non-null int64\n",
      "num_tl_op_past_12m          366575 non-null int64\n",
      "percent_bc_gt_75            362108 non-null float64\n",
      "pub_rec_bankruptcies        366575 non-null int64\n",
      "tot_hi_cred_lim             366575 non-null int64\n",
      "total_bal_ex_mort           366575 non-null int64\n",
      "total_bc_limit              366575 non-null int64\n",
      "dtypes: float64(7), int64(23), object(15)\n",
      "memory usage: 128.7+ MB\n",
      "None\n"
     ]
    }
   ],
   "source": [
    "print(df.info())"
   ]
  },
  {
   "cell_type": "markdown",
   "metadata": {},
   "source": [
    "### 3.2 Data Types<a id = '3.2'></a>"
   ]
  },
  {
   "cell_type": "markdown",
   "metadata": {},
   "source": [
    "By going through the data, we found the dtype of certain features need to be converted.  \n",
    "First, we would convert object type 'int_rate' and 'revol_util' to `float` type ."
   ]
  },
  {
   "cell_type": "code",
   "execution_count": 95,
   "metadata": {},
   "outputs": [],
   "source": [
    "# int rate and revol util both have % and defined as object type , stripping of % and changing it to flaot \n",
    "\n",
    "df[['int_rate', 'revol_util']] = df[['int_rate', 'revol_util']].apply(\n",
    "                                                lambda x: x.str.rstrip('%').astype('float'))"
   ]
  },
  {
   "cell_type": "code",
   "execution_count": 11,
   "metadata": {},
   "outputs": [
    {
     "name": "stdout",
     "output_type": "stream",
     "text": [
      "funded_amnt                     0\n",
      "term                            0\n",
      "int_rate                        0\n",
      "installment                     0\n",
      "sub_grade                       0\n",
      "emp_title                   24681\n",
      "emp_length                  24438\n",
      "home_ownership                  0\n",
      "annual_inc                      0\n",
      "verification_status             0\n",
      "issue_d                         0\n",
      "loan_status                     0\n",
      "purpose                         0\n",
      "title                       13001\n",
      "addr_state                      0\n",
      "dti                           159\n",
      "delinq_2yrs                     0\n",
      "fico_range_low                  0\n",
      "fico_range_high                 0\n",
      "open_acc                        0\n",
      "pub_rec                         0\n",
      "revol_bal                       0\n",
      "revol_util                    260\n",
      "total_acc                       0\n",
      "initial_list_status             0\n",
      "application_type                0\n",
      "acc_now_delinq                  0\n",
      "tot_coll_amt                    0\n",
      "tot_cur_bal                     0\n",
      "avg_cur_bal                     3\n",
      "chargeoff_within_12_mths        0\n",
      "delinq_amnt                     0\n",
      "mo_sin_rcnt_rev_tl_op           0\n",
      "mo_sin_rcnt_tl                  0\n",
      "mort_acc                        0\n",
      "mths_since_recent_bc         4184\n",
      "num_accts_ever_120_pd           0\n",
      "num_tl_120dpd_2m            18168\n",
      "num_tl_90g_dpd_24m              0\n",
      "num_tl_op_past_12m              0\n",
      "percent_bc_gt_75             4467\n",
      "pub_rec_bankruptcies            0\n",
      "tot_hi_cred_lim                 0\n",
      "total_bal_ex_mort               0\n",
      "total_bc_limit                  0\n",
      "dtype: int64\n"
     ]
    },
    {
     "data": {
      "text/html": [
       "<div>\n",
       "<style scoped>\n",
       "    .dataframe tbody tr th:only-of-type {\n",
       "        vertical-align: middle;\n",
       "    }\n",
       "\n",
       "    .dataframe tbody tr th {\n",
       "        vertical-align: top;\n",
       "    }\n",
       "\n",
       "    .dataframe thead th {\n",
       "        text-align: right;\n",
       "    }\n",
       "</style>\n",
       "<table border=\"1\" class=\"dataframe\">\n",
       "  <thead>\n",
       "    <tr style=\"text-align: right;\">\n",
       "      <th></th>\n",
       "      <th>funded_amnt</th>\n",
       "      <th>term</th>\n",
       "      <th>int_rate</th>\n",
       "      <th>installment</th>\n",
       "      <th>sub_grade</th>\n",
       "      <th>emp_title</th>\n",
       "      <th>emp_length</th>\n",
       "      <th>home_ownership</th>\n",
       "      <th>annual_inc</th>\n",
       "      <th>verification_status</th>\n",
       "      <th>...</th>\n",
       "      <th>mths_since_recent_bc</th>\n",
       "      <th>num_accts_ever_120_pd</th>\n",
       "      <th>num_tl_120dpd_2m</th>\n",
       "      <th>num_tl_90g_dpd_24m</th>\n",
       "      <th>num_tl_op_past_12m</th>\n",
       "      <th>percent_bc_gt_75</th>\n",
       "      <th>pub_rec_bankruptcies</th>\n",
       "      <th>tot_hi_cred_lim</th>\n",
       "      <th>total_bal_ex_mort</th>\n",
       "      <th>total_bc_limit</th>\n",
       "    </tr>\n",
       "  </thead>\n",
       "  <tbody>\n",
       "    <tr>\n",
       "      <th>0</th>\n",
       "      <td>8400</td>\n",
       "      <td>36 months</td>\n",
       "      <td>9.75</td>\n",
       "      <td>270.06</td>\n",
       "      <td>B3</td>\n",
       "      <td>RV Tech</td>\n",
       "      <td>2 years</td>\n",
       "      <td>MORTGAGE</td>\n",
       "      <td>66000.0</td>\n",
       "      <td>Not Verified</td>\n",
       "      <td>...</td>\n",
       "      <td>89.0</td>\n",
       "      <td>2</td>\n",
       "      <td>0.0</td>\n",
       "      <td>0</td>\n",
       "      <td>3</td>\n",
       "      <td>100.0</td>\n",
       "      <td>0</td>\n",
       "      <td>166260</td>\n",
       "      <td>30290</td>\n",
       "      <td>6200</td>\n",
       "    </tr>\n",
       "    <tr>\n",
       "      <th>4</th>\n",
       "      <td>20000</td>\n",
       "      <td>36 months</td>\n",
       "      <td>11.99</td>\n",
       "      <td>664.20</td>\n",
       "      <td>C1</td>\n",
       "      <td>rn case manager</td>\n",
       "      <td>10+ years</td>\n",
       "      <td>MORTGAGE</td>\n",
       "      <td>49000.0</td>\n",
       "      <td>Source Verified</td>\n",
       "      <td>...</td>\n",
       "      <td>111.0</td>\n",
       "      <td>4</td>\n",
       "      <td>0.0</td>\n",
       "      <td>0</td>\n",
       "      <td>0</td>\n",
       "      <td>100.0</td>\n",
       "      <td>0</td>\n",
       "      <td>140308</td>\n",
       "      <td>29637</td>\n",
       "      <td>13100</td>\n",
       "    </tr>\n",
       "    <tr>\n",
       "      <th>5</th>\n",
       "      <td>13625</td>\n",
       "      <td>60 months</td>\n",
       "      <td>15.31</td>\n",
       "      <td>326.36</td>\n",
       "      <td>C5</td>\n",
       "      <td>Director of Sales &amp; Marketing</td>\n",
       "      <td>1 year</td>\n",
       "      <td>MORTGAGE</td>\n",
       "      <td>50000.0</td>\n",
       "      <td>Not Verified</td>\n",
       "      <td>...</td>\n",
       "      <td>7.0</td>\n",
       "      <td>0</td>\n",
       "      <td>0.0</td>\n",
       "      <td>0</td>\n",
       "      <td>3</td>\n",
       "      <td>11.1</td>\n",
       "      <td>0</td>\n",
       "      <td>275130</td>\n",
       "      <td>147437</td>\n",
       "      <td>66900</td>\n",
       "    </tr>\n",
       "    <tr>\n",
       "      <th>7</th>\n",
       "      <td>15000</td>\n",
       "      <td>60 months</td>\n",
       "      <td>19.53</td>\n",
       "      <td>393.50</td>\n",
       "      <td>D5</td>\n",
       "      <td>superintendent</td>\n",
       "      <td>1 year</td>\n",
       "      <td>RENT</td>\n",
       "      <td>63890.0</td>\n",
       "      <td>Not Verified</td>\n",
       "      <td>...</td>\n",
       "      <td>6.0</td>\n",
       "      <td>0</td>\n",
       "      <td>0.0</td>\n",
       "      <td>0</td>\n",
       "      <td>3</td>\n",
       "      <td>25.0</td>\n",
       "      <td>0</td>\n",
       "      <td>56282</td>\n",
       "      <td>40244</td>\n",
       "      <td>10600</td>\n",
       "    </tr>\n",
       "    <tr>\n",
       "      <th>9</th>\n",
       "      <td>12000</td>\n",
       "      <td>60 months</td>\n",
       "      <td>13.67</td>\n",
       "      <td>277.18</td>\n",
       "      <td>C3</td>\n",
       "      <td>HR Specialist</td>\n",
       "      <td>10+ years</td>\n",
       "      <td>MORTGAGE</td>\n",
       "      <td>68000.0</td>\n",
       "      <td>Source Verified</td>\n",
       "      <td>...</td>\n",
       "      <td>6.0</td>\n",
       "      <td>2</td>\n",
       "      <td>0.0</td>\n",
       "      <td>0</td>\n",
       "      <td>4</td>\n",
       "      <td>75.0</td>\n",
       "      <td>0</td>\n",
       "      <td>91129</td>\n",
       "      <td>78305</td>\n",
       "      <td>7000</td>\n",
       "    </tr>\n",
       "  </tbody>\n",
       "</table>\n",
       "<p>5 rows × 45 columns</p>\n",
       "</div>"
      ],
      "text/plain": [
       "   funded_amnt        term  int_rate  installment sub_grade  \\\n",
       "0         8400   36 months      9.75       270.06        B3   \n",
       "4        20000   36 months     11.99       664.20        C1   \n",
       "5        13625   60 months     15.31       326.36        C5   \n",
       "7        15000   60 months     19.53       393.50        D5   \n",
       "9        12000   60 months     13.67       277.18        C3   \n",
       "\n",
       "                        emp_title emp_length home_ownership  annual_inc  \\\n",
       "0                         RV Tech    2 years       MORTGAGE     66000.0   \n",
       "4                 rn case manager  10+ years       MORTGAGE     49000.0   \n",
       "5  Director of Sales & Marketing      1 year       MORTGAGE     50000.0   \n",
       "7                  superintendent     1 year           RENT     63890.0   \n",
       "9                   HR Specialist  10+ years       MORTGAGE     68000.0   \n",
       "\n",
       "  verification_status  ... mths_since_recent_bc num_accts_ever_120_pd  \\\n",
       "0        Not Verified  ...                 89.0                     2   \n",
       "4     Source Verified  ...                111.0                     4   \n",
       "5        Not Verified  ...                  7.0                     0   \n",
       "7        Not Verified  ...                  6.0                     0   \n",
       "9     Source Verified  ...                  6.0                     2   \n",
       "\n",
       "  num_tl_120dpd_2m num_tl_90g_dpd_24m num_tl_op_past_12m  percent_bc_gt_75  \\\n",
       "0              0.0                  0                  3             100.0   \n",
       "4              0.0                  0                  0             100.0   \n",
       "5              0.0                  0                  3              11.1   \n",
       "7              0.0                  0                  3              25.0   \n",
       "9              0.0                  0                  4              75.0   \n",
       "\n",
       "   pub_rec_bankruptcies  tot_hi_cred_lim  total_bal_ex_mort  total_bc_limit  \n",
       "0                     0           166260              30290            6200  \n",
       "4                     0           140308              29637           13100  \n",
       "5                     0           275130             147437           66900  \n",
       "7                     0            56282              40244           10600  \n",
       "9                     0            91129              78305            7000  \n",
       "\n",
       "[5 rows x 45 columns]"
      ]
     },
     "execution_count": 11,
     "metadata": {},
     "output_type": "execute_result"
    }
   ],
   "source": [
    "# finding the NAN values for the data \n",
    "print(df.apply(lambda x : sum(x.isna())))\n",
    "df.head()"
   ]
  },
  {
   "cell_type": "code",
   "execution_count": 96,
   "metadata": {},
   "outputs": [],
   "source": [
    "#title and emp_title have lot of missing values and won't provide any insights to modelling\n",
    "\n",
    "df.drop(columns = ['title','emp_title','issue_d','mths_since_recent_bc','percent_bc_gt_75',\n",
    "                   'num_tl_120dpd_2m'],inplace = True)\n"
   ]
  },
  {
   "cell_type": "code",
   "execution_count": 97,
   "metadata": {},
   "outputs": [],
   "source": [
    "# converting the emp_length to int , this feature also has lot of missing values\n",
    "\n",
    "df['emp_length'].replace(to_replace='10+ years', value='10 years', inplace=True)\n",
    "df['emp_length'].replace('< 1 year', '0 years', inplace=True)\n",
    "\n",
    "def emp_length_to_int(s):\n",
    "    if pd.isnull(s):\n",
    "        return s\n",
    "    else:\n",
    "        return np.int8(s.split()[0])"
   ]
  },
  {
   "cell_type": "code",
   "execution_count": 98,
   "metadata": {},
   "outputs": [
    {
     "data": {
      "text/plain": [
       "0.0      29815\n",
       "1.0      24817\n",
       "2.0      33935\n",
       "3.0      29731\n",
       "4.0      21996\n",
       "5.0      22493\n",
       "6.0      15722\n",
       "7.0      12452\n",
       "8.0      14287\n",
       "9.0      13885\n",
       "10.0    123004\n",
       "NaN      24438\n",
       "Name: emp_length, dtype: int64"
      ]
     },
     "execution_count": 98,
     "metadata": {},
     "output_type": "execute_result"
    }
   ],
   "source": [
    "df['emp_length'] = df['emp_length'].apply(emp_length_to_int)\n",
    "df['emp_length'].value_counts(dropna=False).sort_index()"
   ]
  },
  {
   "cell_type": "code",
   "execution_count": 99,
   "metadata": {},
   "outputs": [],
   "source": [
    "# imputing the missing values in the below columns\n",
    "\n",
    "df['emp_length'] = df['emp_length'].fillna(0.0)\n",
    "df['dti'] = df['dti'].fillna(value = df.dti.mean())\n",
    "df['revol_util'] = df['revol_util'].fillna(value = df.revol_util.mean())\n",
    "df['avg_cur_bal'] = df['avg_cur_bal'].fillna(value = df.avg_cur_bal.mean())"
   ]
  },
  {
   "cell_type": "markdown",
   "metadata": {},
   "source": [
    "### 3.3 Summary<a id = '3.3'></a>"
   ]
  },
  {
   "cell_type": "code",
   "execution_count": 25,
   "metadata": {},
   "outputs": [
    {
     "name": "stdout",
     "output_type": "stream",
     "text": [
      "funded_amnt                 0\n",
      "term                        0\n",
      "int_rate                    0\n",
      "installment                 0\n",
      "sub_grade                   0\n",
      "emp_length                  0\n",
      "home_ownership              0\n",
      "annual_inc                  0\n",
      "verification_status         0\n",
      "loan_status                 0\n",
      "purpose                     0\n",
      "addr_state                  0\n",
      "dti                         0\n",
      "delinq_2yrs                 0\n",
      "fico_range_low              0\n",
      "fico_range_high             0\n",
      "open_acc                    0\n",
      "pub_rec                     0\n",
      "revol_bal                   0\n",
      "revol_util                  0\n",
      "total_acc                   0\n",
      "initial_list_status         0\n",
      "application_type            0\n",
      "acc_now_delinq              0\n",
      "tot_coll_amt                0\n",
      "tot_cur_bal                 0\n",
      "avg_cur_bal                 0\n",
      "chargeoff_within_12_mths    0\n",
      "delinq_amnt                 0\n",
      "mo_sin_rcnt_rev_tl_op       0\n",
      "mo_sin_rcnt_tl              0\n",
      "mort_acc                    0\n",
      "num_accts_ever_120_pd       0\n",
      "num_tl_90g_dpd_24m          0\n",
      "num_tl_op_past_12m          0\n",
      "pub_rec_bankruptcies        0\n",
      "tot_hi_cred_lim             0\n",
      "total_bal_ex_mort           0\n",
      "total_bc_limit              0\n",
      "dtype: int64\n"
     ]
    }
   ],
   "source": [
    "print(df.apply(lambda x : sum(x.isna())))"
   ]
  },
  {
   "cell_type": "markdown",
   "metadata": {},
   "source": [
    "## 4. Exploratory Data Analysis<a id = '4'></a>"
   ]
  },
  {
   "cell_type": "markdown",
   "metadata": {},
   "source": [
    "Here we select a few important features."
   ]
  },
  {
   "cell_type": "markdown",
   "metadata": {},
   "source": [
    "**`loan_status`**  \n",
    "Current status of the loan."
   ]
  },
  {
   "cell_type": "code",
   "execution_count": 26,
   "metadata": {},
   "outputs": [
    {
     "data": {
      "text/plain": [
       "Fully Paid            264241\n",
       "Charged Off            81570\n",
       "Late (31-120 days)     16259\n",
       "Late (16-30 days)       4505\n",
       "Name: loan_status, dtype: int64"
      ]
     },
     "execution_count": 26,
     "metadata": {},
     "output_type": "execute_result"
    }
   ],
   "source": [
    "df['loan_status'].value_counts()"
   ]
  },
  {
   "cell_type": "markdown",
   "metadata": {},
   "source": [
    "We could see that the distribution of **target feature is imbalanced** where \"Fully paid\" makes up 70% of loan status. We may want to **oversample on 'Charged off'** later before model training. Also, we would **choose AUC , precision and recall** over accuracy when it comes to the model performance evaluation."
   ]
  },
  {
   "cell_type": "markdown",
   "metadata": {},
   "source": [
    "**`loan_amnt`**  \n",
    "The listed amount of the loan applied for by the borrower. If at some point in time, the credit department reduces the loan amount, then it will be reflected in this value."
   ]
  },
  {
   "cell_type": "code",
   "execution_count": 27,
   "metadata": {},
   "outputs": [
    {
     "data": {
      "text/plain": [
       "Text(0.5, 1.0, 'Distribution of Loan Amount')"
      ]
     },
     "execution_count": 27,
     "metadata": {},
     "output_type": "execute_result"
    },
    {
     "data": {
      "image/png": "[encoded data removed]",
      "text/plain": [
       "<Figure size 432x288 with 1 Axes>"
      ]
     },
     "metadata": {
      "needs_background": "light"
     },
     "output_type": "display_data"
    }
   ],
   "source": [
    "df['funded_amnt'].hist(density = True)\n",
    "plt.title('Distribution of Loan Amount')"
   ]
  },
  {
   "cell_type": "markdown",
   "metadata": {},
   "source": [
    "funded amount with the largest population are USD 10,000, 20000 and 15000."
   ]
  },
  {
   "cell_type": "markdown",
   "metadata": {},
   "source": [
    "**`dti`**  \n",
    "A ratio calculated using the borrower’s total monthly debt payments on the total debt obligations, excluding mortgage and the requested LC loan, divided by the borrower’s self-reported monthly income."
   ]
  },
  {
   "cell_type": "code",
   "execution_count": 28,
   "metadata": {},
   "outputs": [
    {
     "data": {
      "text/plain": [
       "count    366575.000000\n",
       "mean         18.817953\n",
       "std          13.384507\n",
       "min          -1.000000\n",
       "25%          12.040000\n",
       "50%          18.020000\n",
       "75%          24.690000\n",
       "max         999.000000\n",
       "Name: dti, dtype: float64"
      ]
     },
     "execution_count": 28,
     "metadata": {},
     "output_type": "execute_result"
    }
   ],
   "source": [
    "df['dti'].describe()"
   ]
  },
  {
   "cell_type": "code",
   "execution_count": 29,
   "metadata": {},
   "outputs": [
    {
     "data": {
      "text/plain": [
       "0.000    -1.00\n",
       "0.099     7.32\n",
       "0.198    10.63\n",
       "0.297    13.21\n",
       "0.396    15.55\n",
       "0.495    17.90\n",
       "0.594    20.31\n",
       "0.693    22.97\n",
       "0.792    26.08\n",
       "0.891    30.01\n",
       "0.990    40.92\n",
       "Name: dti, dtype: float64"
      ]
     },
     "execution_count": 29,
     "metadata": {},
     "output_type": "execute_result"
    }
   ],
   "source": [
    "df['dti'].quantile(np.arange(0, 1, 0.099))"
   ]
  },
  {
   "cell_type": "code",
   "execution_count": 30,
   "metadata": {},
   "outputs": [
    {
     "data": {
      "text/plain": [
       "0.01107004023733206"
      ]
     },
     "execution_count": 30,
     "metadata": {},
     "output_type": "execute_result"
    }
   ],
   "source": [
    "(df['dti'] >40).mean()"
   ]
  },
  {
   "cell_type": "markdown",
   "metadata": {},
   "source": [
    "99% of borrowers having dti less than 40, which is good. Borrowers with dti greater than 40 only make up 1% of population. Notice that the highest dti is 999."
   ]
  },
  {
   "cell_type": "markdown",
   "metadata": {},
   "source": [
    "**`term`**  \n",
    "The number of payments on the loan. Values are in months."
   ]
  },
  {
   "cell_type": "code",
   "execution_count": 31,
   "metadata": {},
   "outputs": [
    {
     "data": {
      "text/plain": [
       " 36 months    278968\n",
       " 60 months     87607\n",
       "Name: term, dtype: int64"
      ]
     },
     "execution_count": 31,
     "metadata": {},
     "output_type": "execute_result"
    }
   ],
   "source": [
    "df['term'].value_counts()"
   ]
  },
  {
   "cell_type": "markdown",
   "metadata": {},
   "source": [
    "We have either a 36-month or 60-month term. So we will treat it as a categorical feature."
   ]
  },
  {
   "cell_type": "markdown",
   "metadata": {},
   "source": [
    "**`purpose`**  \n",
    "A category provided by the borrower for the loan request. "
   ]
  },
  {
   "cell_type": "code",
   "execution_count": 32,
   "metadata": {},
   "outputs": [],
   "source": [
    "purpose = df[['purpose', 'funded_amnt']].groupby('purpose', as_index = False).sum().sort_values('funded_amnt', ascending = False)\n",
    "total_loan = purpose['funded_amnt'].sum()\n",
    "purpose['% of Loan Amount'] = purpose['funded_amnt'].map(lambda x: '{:.2f}'.format(100 * x / total_loan)).astype('float')"
   ]
  },
  {
   "cell_type": "code",
   "execution_count": 33,
   "metadata": {},
   "outputs": [
    {
     "data": {
      "image/png": "[encoded data removed]",
      "text/plain": [
       "<Figure size 540x360 with 1 Axes>"
      ]
     },
     "metadata": {
      "needs_background": "light"
     },
     "output_type": "display_data"
    }
   ],
   "source": [
    "sns.catplot(x = \"purpose\", y = \"% of Loan Amount\",kind = 'bar', aspect=1.5, data = purpose).set_xticklabels(rotation=30, ha='right')\n",
    "plt.title('Purpose vs. Loan Amount')\n",
    "plt.show()"
   ]
  },
  {
   "cell_type": "markdown",
   "metadata": {},
   "source": [
    "Over 60% of total funded amount are used to consolidate debt. This is easy to understand because its interest rate used to be lower. Next come to credit card paidofff and home improvement, representing 22.5% and 6% respectively."
   ]
  },
  {
   "cell_type": "markdown",
   "metadata": {},
   "source": [
    "**`funded_amnt`**"
   ]
  },
  {
   "cell_type": "code",
   "execution_count": 34,
   "metadata": {},
   "outputs": [
    {
     "data": {
      "image/png": "[encoded data removed]",
      "text/plain": [
       "<Figure size 432x288 with 1 Axes>"
      ]
     },
     "metadata": {
      "needs_background": "light"
     },
     "output_type": "display_data"
    }
   ],
   "source": [
    "sns.distplot(df['funded_amnt'], kde = False, bins = 40).set_title('Distribution of funded Amount')\n",
    "plt.show()"
   ]
  },
  {
   "cell_type": "markdown",
   "metadata": {},
   "source": [
    "The funded amount distribution is right skewed with the greatest amount equal to 40k. Most of loans lie in between 5k and 15k. \n",
    "Next we are going to see how loan volume change over year.  \n"
   ]
  },
  {
   "cell_type": "markdown",
   "metadata": {},
   "source": [
    "**`credit score vs. loan_status`**"
   ]
  },
  {
   "cell_type": "code",
   "execution_count": 35,
   "metadata": {},
   "outputs": [
    {
     "data": {
      "image/png": "[encoded data removed]",
      "text/plain": [
       "<Figure size 864x216 with 4 Axes>"
      ]
     },
     "metadata": {
      "needs_background": "light"
     },
     "output_type": "display_data"
    }
   ],
   "source": [
    "fico_loan = df.loc[:, ['fico_range_low', 'loan_status']]\n",
    "\n",
    "g = sns.FacetGrid(fico_loan, col = \"loan_status\")\n",
    "g = g.map(plt.hist, \"fico_range_low\")"
   ]
  },
  {
   "cell_type": "markdown",
   "metadata": {},
   "source": [
    "The most 'charged off' and 'fully paid' both occur in fico between 650 and 700. The distributions for 'charged off\" and 'Fully Piad\" are similar where the former has a heavier right tail."
   ]
  },
  {
   "cell_type": "markdown",
   "metadata": {},
   "source": [
    "**`pub_rec_bankruptcies vs. loan_status`**"
   ]
  },
  {
   "cell_type": "code",
   "execution_count": 36,
   "metadata": {},
   "outputs": [
    {
     "data": {
      "text/html": [
       "<div>\n",
       "<style scoped>\n",
       "    .dataframe tbody tr th:only-of-type {\n",
       "        vertical-align: middle;\n",
       "    }\n",
       "\n",
       "    .dataframe tbody tr th {\n",
       "        vertical-align: top;\n",
       "    }\n",
       "\n",
       "    .dataframe thead th {\n",
       "        text-align: right;\n",
       "    }\n",
       "</style>\n",
       "<table border=\"1\" class=\"dataframe\">\n",
       "  <thead>\n",
       "    <tr style=\"text-align: right;\">\n",
       "      <th></th>\n",
       "      <th>pub_rec_bankruptcies</th>\n",
       "    </tr>\n",
       "    <tr>\n",
       "      <th>loan_status</th>\n",
       "      <th></th>\n",
       "    </tr>\n",
       "  </thead>\n",
       "  <tbody>\n",
       "    <tr>\n",
       "      <th>Charged Off</th>\n",
       "      <td>14174</td>\n",
       "    </tr>\n",
       "    <tr>\n",
       "      <th>Fully Paid</th>\n",
       "      <td>41706</td>\n",
       "    </tr>\n",
       "    <tr>\n",
       "      <th>Late (16-30 days)</th>\n",
       "      <td>698</td>\n",
       "    </tr>\n",
       "    <tr>\n",
       "      <th>Late (31-120 days)</th>\n",
       "      <td>2639</td>\n",
       "    </tr>\n",
       "  </tbody>\n",
       "</table>\n",
       "</div>"
      ],
      "text/plain": [
       "                    pub_rec_bankruptcies\n",
       "loan_status                             \n",
       "Charged Off                        14174\n",
       "Fully Paid                         41706\n",
       "Late (16-30 days)                    698\n",
       "Late (31-120 days)                  2639"
      ]
     },
     "execution_count": 36,
     "metadata": {},
     "output_type": "execute_result"
    }
   ],
   "source": [
    "df[['pub_rec_bankruptcies', 'loan_status']].groupby('loan_status').sum()"
   ]
  },
  {
   "cell_type": "markdown",
   "metadata": {},
   "source": [
    "There are significantly more public record bankruptcies in the 'charged off' group. But what is interesting is 14174 borrowers with such record were still issued loans. Probably the online lending is less strict than we thought."
   ]
  },
  {
   "cell_type": "markdown",
   "metadata": {},
   "source": [
    "**`Correlations between the predictor features and target features`**"
   ]
  },
  {
   "cell_type": "markdown",
   "metadata": {},
   "source": [
    "Here are the feature pairs with pearson correlation >= 0.6. We will drop out features on `level_1`."
   ]
  },
  {
   "cell_type": "code",
   "execution_count": 100,
   "metadata": {},
   "outputs": [
    {
     "data": {
      "text/html": [
       "<div>\n",
       "<style scoped>\n",
       "    .dataframe tbody tr th:only-of-type {\n",
       "        vertical-align: middle;\n",
       "    }\n",
       "\n",
       "    .dataframe tbody tr th {\n",
       "        vertical-align: top;\n",
       "    }\n",
       "\n",
       "    .dataframe thead th {\n",
       "        text-align: right;\n",
       "    }\n",
       "</style>\n",
       "<table border=\"1\" class=\"dataframe\">\n",
       "  <thead>\n",
       "    <tr style=\"text-align: right;\">\n",
       "      <th></th>\n",
       "      <th>level_0</th>\n",
       "      <th>level_1</th>\n",
       "      <th>0</th>\n",
       "    </tr>\n",
       "  </thead>\n",
       "  <tbody>\n",
       "    <tr>\n",
       "      <th>0</th>\n",
       "      <td>funded_amnt</td>\n",
       "      <td>installment</td>\n",
       "      <td>0.954403</td>\n",
       "    </tr>\n",
       "    <tr>\n",
       "      <th>1</th>\n",
       "      <td>delinq_2yrs</td>\n",
       "      <td>num_tl_90g_dpd_24m</td>\n",
       "      <td>0.669535</td>\n",
       "    </tr>\n",
       "    <tr>\n",
       "      <th>2</th>\n",
       "      <td>fico_range_low</td>\n",
       "      <td>fico_range_high</td>\n",
       "      <td>1.000000</td>\n",
       "    </tr>\n",
       "    <tr>\n",
       "      <th>3</th>\n",
       "      <td>open_acc</td>\n",
       "      <td>total_acc</td>\n",
       "      <td>0.712150</td>\n",
       "    </tr>\n",
       "    <tr>\n",
       "      <th>4</th>\n",
       "      <td>pub_rec</td>\n",
       "      <td>pub_rec_bankruptcies</td>\n",
       "      <td>0.645876</td>\n",
       "    </tr>\n",
       "    <tr>\n",
       "      <th>5</th>\n",
       "      <td>tot_cur_bal</td>\n",
       "      <td>avg_cur_bal</td>\n",
       "      <td>0.830574</td>\n",
       "    </tr>\n",
       "    <tr>\n",
       "      <th>6</th>\n",
       "      <td>tot_cur_bal</td>\n",
       "      <td>tot_hi_cred_lim</td>\n",
       "      <td>0.965410</td>\n",
       "    </tr>\n",
       "    <tr>\n",
       "      <th>7</th>\n",
       "      <td>avg_cur_bal</td>\n",
       "      <td>tot_hi_cred_lim</td>\n",
       "      <td>0.783262</td>\n",
       "    </tr>\n",
       "  </tbody>\n",
       "</table>\n",
       "</div>"
      ],
      "text/plain": [
       "          level_0               level_1         0\n",
       "0     funded_amnt           installment  0.954403\n",
       "1     delinq_2yrs    num_tl_90g_dpd_24m  0.669535\n",
       "2  fico_range_low       fico_range_high  1.000000\n",
       "3        open_acc             total_acc  0.712150\n",
       "4         pub_rec  pub_rec_bankruptcies  0.645876\n",
       "5     tot_cur_bal           avg_cur_bal  0.830574\n",
       "6     tot_cur_bal       tot_hi_cred_lim  0.965410\n",
       "7     avg_cur_bal       tot_hi_cred_lim  0.783262"
      ]
     },
     "execution_count": 100,
     "metadata": {},
     "output_type": "execute_result"
    }
   ],
   "source": [
    "corr = df.corr()\n",
    "corr = corr.mask(np.tril(np.ones(corr.shape)).astype(np.bool))\n",
    "corr = corr[abs(corr) >= 0.6].stack().reset_index()\n",
    "corr.head(20)"
   ]
  },
  {
   "cell_type": "code",
   "execution_count": 101,
   "metadata": {},
   "outputs": [],
   "source": [
    "# dropping out the features as their information is correlated with other features \n",
    "\n",
    "df.drop(columns = ['installment','num_tl_90g_dpd_24m','fico_range_high','total_acc','pub_rec_bankruptcies',\n",
    "                   'avg_cur_bal','tot_hi_cred_lim'],inplace = True)"
   ]
  },
  {
   "cell_type": "markdown",
   "metadata": {},
   "source": [
    "## 5. Modeling<a id = '5'></a>"
   ]
  },
  {
   "cell_type": "markdown",
   "metadata": {},
   "source": [
    "we train logistic regression, Decision Trees, random forest, and ada Boost models and select the best model. \n",
    "\n",
    "1 . we will split the data set to training and testing \n",
    "\n",
    "2 . loan_status will be treated as target column"
   ]
  },
  {
   "cell_type": "markdown",
   "metadata": {},
   "source": [
    "### 5.1 Model Training<a id = '5.1'></a>"
   ]
  },
  {
   "cell_type": "markdown",
   "metadata": {},
   "source": [
    "Since the target feature is imbalanced, accuracy is not a good indicator of model performance. We will take a look at precision, recall and AOC-AUC to evaluate the model."
   ]
  },
  {
   "cell_type": "code",
   "execution_count": 102,
   "metadata": {},
   "outputs": [],
   "source": [
    "# Mapping loan statuses into numeric values \n",
    "\n",
    "df['loan_status'] = df['loan_status'].map({'Fully Paid': 1, 'Charged Off':0,'Late (31-120 days)':0,\n",
    "                                           'Late (16-30 days)':0})\n"
   ]
  },
  {
   "cell_type": "code",
   "execution_count": 103,
   "metadata": {},
   "outputs": [
    {
     "name": "stdout",
     "output_type": "stream",
     "text": [
      "<class 'pandas.core.frame.DataFrame'>\n",
      "Int64Index: 366575 entries, 0 to 118644\n",
      "Data columns (total 32 columns):\n",
      "funded_amnt                 366575 non-null int64\n",
      "term                        366575 non-null object\n",
      "int_rate                    366575 non-null float64\n",
      "sub_grade                   366575 non-null object\n",
      "emp_length                  366575 non-null float64\n",
      "home_ownership              366575 non-null object\n",
      "annual_inc                  366575 non-null float64\n",
      "verification_status         366575 non-null object\n",
      "loan_status                 366575 non-null int64\n",
      "purpose                     366575 non-null object\n",
      "addr_state                  366575 non-null object\n",
      "dti                         366575 non-null float64\n",
      "delinq_2yrs                 366575 non-null int64\n",
      "fico_range_low              366575 non-null int64\n",
      "open_acc                    366575 non-null int64\n",
      "pub_rec                     366575 non-null int64\n",
      "revol_bal                   366575 non-null int64\n",
      "revol_util                  366575 non-null float64\n",
      "initial_list_status         366575 non-null object\n",
      "application_type            366575 non-null object\n",
      "acc_now_delinq              366575 non-null int64\n",
      "tot_coll_amt                366575 non-null int64\n",
      "tot_cur_bal                 366575 non-null int64\n",
      "chargeoff_within_12_mths    366575 non-null int64\n",
      "delinq_amnt                 366575 non-null int64\n",
      "mo_sin_rcnt_rev_tl_op       366575 non-null int64\n",
      "mo_sin_rcnt_tl              366575 non-null int64\n",
      "mort_acc                    366575 non-null int64\n",
      "num_accts_ever_120_pd       366575 non-null int64\n",
      "num_tl_op_past_12m          366575 non-null int64\n",
      "total_bal_ex_mort           366575 non-null int64\n",
      "total_bc_limit              366575 non-null int64\n",
      "dtypes: float64(5), int64(19), object(8)\n",
      "memory usage: 92.3+ MB\n",
      "None\n"
     ]
    },
    {
     "data": {
      "text/html": [
       "<div>\n",
       "<style scoped>\n",
       "    .dataframe tbody tr th:only-of-type {\n",
       "        vertical-align: middle;\n",
       "    }\n",
       "\n",
       "    .dataframe tbody tr th {\n",
       "        vertical-align: top;\n",
       "    }\n",
       "\n",
       "    .dataframe thead th {\n",
       "        text-align: right;\n",
       "    }\n",
       "</style>\n",
       "<table border=\"1\" class=\"dataframe\">\n",
       "  <thead>\n",
       "    <tr style=\"text-align: right;\">\n",
       "      <th></th>\n",
       "      <th>funded_amnt</th>\n",
       "      <th>term</th>\n",
       "      <th>int_rate</th>\n",
       "      <th>sub_grade</th>\n",
       "      <th>emp_length</th>\n",
       "      <th>home_ownership</th>\n",
       "      <th>annual_inc</th>\n",
       "      <th>verification_status</th>\n",
       "      <th>loan_status</th>\n",
       "      <th>purpose</th>\n",
       "      <th>addr_state</th>\n",
       "      <th>dti</th>\n",
       "      <th>delinq_2yrs</th>\n",
       "      <th>fico_range_low</th>\n",
       "      <th>open_acc</th>\n",
       "      <th>pub_rec</th>\n",
       "      <th>revol_bal</th>\n",
       "      <th>revol_util</th>\n",
       "      <th>initial_list_status</th>\n",
       "      <th>application_type</th>\n",
       "      <th>acc_now_delinq</th>\n",
       "      <th>tot_coll_amt</th>\n",
       "      <th>tot_cur_bal</th>\n",
       "      <th>chargeoff_within_12_mths</th>\n",
       "      <th>delinq_amnt</th>\n",
       "      <th>mo_sin_rcnt_rev_tl_op</th>\n",
       "      <th>mo_sin_rcnt_tl</th>\n",
       "      <th>mort_acc</th>\n",
       "      <th>num_accts_ever_120_pd</th>\n",
       "      <th>num_tl_op_past_12m</th>\n",
       "      <th>total_bal_ex_mort</th>\n",
       "      <th>total_bc_limit</th>\n",
       "    </tr>\n",
       "  </thead>\n",
       "  <tbody>\n",
       "    <tr>\n",
       "      <th>0</th>\n",
       "      <td>8400</td>\n",
       "      <td>36 months</td>\n",
       "      <td>9.75</td>\n",
       "      <td>B3</td>\n",
       "      <td>2.0</td>\n",
       "      <td>MORTGAGE</td>\n",
       "      <td>66000.0</td>\n",
       "      <td>Not Verified</td>\n",
       "      <td>1</td>\n",
       "      <td>debt_consolidation</td>\n",
       "      <td>GA</td>\n",
       "      <td>13.84</td>\n",
       "      <td>0</td>\n",
       "      <td>670</td>\n",
       "      <td>7</td>\n",
       "      <td>0</td>\n",
       "      <td>11059</td>\n",
       "      <td>78.4</td>\n",
       "      <td>w</td>\n",
       "      <td>Individual</td>\n",
       "      <td>0</td>\n",
       "      <td>0</td>\n",
       "      <td>157051</td>\n",
       "      <td>0</td>\n",
       "      <td>0</td>\n",
       "      <td>2</td>\n",
       "      <td>2</td>\n",
       "      <td>2</td>\n",
       "      <td>2</td>\n",
       "      <td>3</td>\n",
       "      <td>30290</td>\n",
       "      <td>6200</td>\n",
       "    </tr>\n",
       "    <tr>\n",
       "      <th>4</th>\n",
       "      <td>20000</td>\n",
       "      <td>36 months</td>\n",
       "      <td>11.99</td>\n",
       "      <td>C1</td>\n",
       "      <td>10.0</td>\n",
       "      <td>MORTGAGE</td>\n",
       "      <td>49000.0</td>\n",
       "      <td>Source Verified</td>\n",
       "      <td>1</td>\n",
       "      <td>debt_consolidation</td>\n",
       "      <td>FL</td>\n",
       "      <td>15.58</td>\n",
       "      <td>1</td>\n",
       "      <td>675</td>\n",
       "      <td>8</td>\n",
       "      <td>0</td>\n",
       "      <td>19014</td>\n",
       "      <td>89.7</td>\n",
       "      <td>w</td>\n",
       "      <td>Individual</td>\n",
       "      <td>0</td>\n",
       "      <td>0</td>\n",
       "      <td>125922</td>\n",
       "      <td>0</td>\n",
       "      <td>0</td>\n",
       "      <td>55</td>\n",
       "      <td>34</td>\n",
       "      <td>5</td>\n",
       "      <td>4</td>\n",
       "      <td>0</td>\n",
       "      <td>29637</td>\n",
       "      <td>13100</td>\n",
       "    </tr>\n",
       "    <tr>\n",
       "      <th>5</th>\n",
       "      <td>13625</td>\n",
       "      <td>60 months</td>\n",
       "      <td>15.31</td>\n",
       "      <td>C5</td>\n",
       "      <td>1.0</td>\n",
       "      <td>MORTGAGE</td>\n",
       "      <td>50000.0</td>\n",
       "      <td>Not Verified</td>\n",
       "      <td>1</td>\n",
       "      <td>credit_card</td>\n",
       "      <td>IN</td>\n",
       "      <td>30.41</td>\n",
       "      <td>0</td>\n",
       "      <td>745</td>\n",
       "      <td>21</td>\n",
       "      <td>0</td>\n",
       "      <td>9650</td>\n",
       "      <td>12.4</td>\n",
       "      <td>w</td>\n",
       "      <td>Individual</td>\n",
       "      <td>0</td>\n",
       "      <td>0</td>\n",
       "      <td>204560</td>\n",
       "      <td>0</td>\n",
       "      <td>0</td>\n",
       "      <td>7</td>\n",
       "      <td>7</td>\n",
       "      <td>1</td>\n",
       "      <td>0</td>\n",
       "      <td>3</td>\n",
       "      <td>147437</td>\n",
       "      <td>66900</td>\n",
       "    </tr>\n",
       "    <tr>\n",
       "      <th>7</th>\n",
       "      <td>15000</td>\n",
       "      <td>60 months</td>\n",
       "      <td>19.53</td>\n",
       "      <td>D5</td>\n",
       "      <td>1.0</td>\n",
       "      <td>RENT</td>\n",
       "      <td>63890.0</td>\n",
       "      <td>Not Verified</td>\n",
       "      <td>0</td>\n",
       "      <td>debt_consolidation</td>\n",
       "      <td>FL</td>\n",
       "      <td>20.36</td>\n",
       "      <td>0</td>\n",
       "      <td>675</td>\n",
       "      <td>7</td>\n",
       "      <td>0</td>\n",
       "      <td>4307</td>\n",
       "      <td>40.6</td>\n",
       "      <td>w</td>\n",
       "      <td>Individual</td>\n",
       "      <td>0</td>\n",
       "      <td>0</td>\n",
       "      <td>40244</td>\n",
       "      <td>0</td>\n",
       "      <td>0</td>\n",
       "      <td>6</td>\n",
       "      <td>6</td>\n",
       "      <td>0</td>\n",
       "      <td>0</td>\n",
       "      <td>3</td>\n",
       "      <td>40244</td>\n",
       "      <td>10600</td>\n",
       "    </tr>\n",
       "    <tr>\n",
       "      <th>9</th>\n",
       "      <td>12000</td>\n",
       "      <td>60 months</td>\n",
       "      <td>13.67</td>\n",
       "      <td>C3</td>\n",
       "      <td>10.0</td>\n",
       "      <td>MORTGAGE</td>\n",
       "      <td>68000.0</td>\n",
       "      <td>Source Verified</td>\n",
       "      <td>0</td>\n",
       "      <td>credit_card</td>\n",
       "      <td>NJ</td>\n",
       "      <td>17.17</td>\n",
       "      <td>0</td>\n",
       "      <td>660</td>\n",
       "      <td>12</td>\n",
       "      <td>0</td>\n",
       "      <td>18424</td>\n",
       "      <td>73.7</td>\n",
       "      <td>w</td>\n",
       "      <td>Individual</td>\n",
       "      <td>0</td>\n",
       "      <td>0</td>\n",
       "      <td>78305</td>\n",
       "      <td>0</td>\n",
       "      <td>0</td>\n",
       "      <td>5</td>\n",
       "      <td>5</td>\n",
       "      <td>0</td>\n",
       "      <td>2</td>\n",
       "      <td>4</td>\n",
       "      <td>78305</td>\n",
       "      <td>7000</td>\n",
       "    </tr>\n",
       "  </tbody>\n",
       "</table>\n",
       "</div>"
      ],
      "text/plain": [
       "   funded_amnt        term  int_rate sub_grade  emp_length home_ownership  \\\n",
       "0         8400   36 months      9.75        B3         2.0       MORTGAGE   \n",
       "4        20000   36 months     11.99        C1        10.0       MORTGAGE   \n",
       "5        13625   60 months     15.31        C5         1.0       MORTGAGE   \n",
       "7        15000   60 months     19.53        D5         1.0           RENT   \n",
       "9        12000   60 months     13.67        C3        10.0       MORTGAGE   \n",
       "\n",
       "   annual_inc verification_status  loan_status             purpose addr_state  \\\n",
       "0     66000.0        Not Verified            1  debt_consolidation         GA   \n",
       "4     49000.0     Source Verified            1  debt_consolidation         FL   \n",
       "5     50000.0        Not Verified            1         credit_card         IN   \n",
       "7     63890.0        Not Verified            0  debt_consolidation         FL   \n",
       "9     68000.0     Source Verified            0         credit_card         NJ   \n",
       "\n",
       "     dti  delinq_2yrs  fico_range_low  open_acc  pub_rec  revol_bal  \\\n",
       "0  13.84            0             670         7        0      11059   \n",
       "4  15.58            1             675         8        0      19014   \n",
       "5  30.41            0             745        21        0       9650   \n",
       "7  20.36            0             675         7        0       4307   \n",
       "9  17.17            0             660        12        0      18424   \n",
       "\n",
       "   revol_util initial_list_status application_type  acc_now_delinq  \\\n",
       "0        78.4                   w       Individual               0   \n",
       "4        89.7                   w       Individual               0   \n",
       "5        12.4                   w       Individual               0   \n",
       "7        40.6                   w       Individual               0   \n",
       "9        73.7                   w       Individual               0   \n",
       "\n",
       "   tot_coll_amt  tot_cur_bal  chargeoff_within_12_mths  delinq_amnt  \\\n",
       "0             0       157051                         0            0   \n",
       "4             0       125922                         0            0   \n",
       "5             0       204560                         0            0   \n",
       "7             0        40244                         0            0   \n",
       "9             0        78305                         0            0   \n",
       "\n",
       "   mo_sin_rcnt_rev_tl_op  mo_sin_rcnt_tl  mort_acc  num_accts_ever_120_pd  \\\n",
       "0                      2               2         2                      2   \n",
       "4                     55              34         5                      4   \n",
       "5                      7               7         1                      0   \n",
       "7                      6               6         0                      0   \n",
       "9                      5               5         0                      2   \n",
       "\n",
       "   num_tl_op_past_12m  total_bal_ex_mort  total_bc_limit  \n",
       "0                   3              30290            6200  \n",
       "4                   0              29637           13100  \n",
       "5                   3             147437           66900  \n",
       "7                   3              40244           10600  \n",
       "9                   4              78305            7000  "
      ]
     },
     "execution_count": 103,
     "metadata": {},
     "output_type": "execute_result"
    }
   ],
   "source": [
    "\n",
    "pd.set_option('display.max_colwidth', 1000, 'display.max_rows', None, 'display.max_columns', None)\n",
    "df.shape\n",
    "print(df.info())\n",
    "df.head()\n"
   ]
  },
  {
   "cell_type": "code",
   "execution_count": 104,
   "metadata": {},
   "outputs": [],
   "source": [
    "\n",
    "# seperating Target variable and applying encoding to categorical features using get dummies \n",
    "\n",
    "y = df['loan_status']\n",
    "X= df.drop('loan_status',axis=1)\n",
    "\n",
    "X = pd.get_dummies(X,drop_first = True)\n"
   ]
  },
  {
   "cell_type": "code",
   "execution_count": 105,
   "metadata": {},
   "outputs": [],
   "source": [
    "# splitting the data set into training and testing and bringing them on to same scale \n",
    "\n",
    "X_train, X_test, y_train, y_test = train_test_split(X, y, test_size = 0.2, random_state = 10)\n",
    "X_train.shape, X_test.shape, y_train.shape, y_test.shape\n",
    "\n",
    "sc = StandardScaler()\n",
    "\n",
    "X_train_std = sc.fit_transform(X_train)\n",
    "X_test_std = sc.fit_transform(X_test)\n"
   ]
  },
  {
   "cell_type": "code",
   "execution_count": 106,
   "metadata": {},
   "outputs": [],
   "source": [
    "def print_score(clf, X_train, y_train, X_test, y_test, train=True):\n",
    "    if train:\n",
    "        print(\"Train Result:\\n\")\n",
    "        print(\"accuracy score: {0:.4f}\\n\".format(accuracy_score(y_train, clf.predict(X_train))))\n",
    "        print(\"Classification Report: \\n {}\\n\".format(classification_report(y_train, clf.predict(X_train))))\n",
    "        print(\"Confusion Matrix: \\n {}\\n\".format(confusion_matrix(y_train, clf.predict(X_train))))\n",
    "\n",
    "        res = cross_val_score(clf, X_train, y_train, cv=10, scoring='accuracy')\n",
    "        print(\"Average Accuracy: \\t {0:.4f}\".format(np.mean(res)))\n",
    "        print(\"Accuracy SD: \\t\\t {0:.4f}\".format(np.std(res)))\n",
    "        \n",
    "    elif train==False:\n",
    "        print(\"Test Result:\\n\")        \n",
    "        print(\"accuracy score: {0:.4f}\\n\".format(accuracy_score(y_test, clf.predict(X_test))))\n",
    "        print(\"Classification Report: \\n {}\\n\".format(classification_report(y_test, clf.predict(X_test))))\n",
    "        print(\"Confusion Matrix: \\n {}\\n\".format(confusion_matrix(y_test, clf.predict(X_test))))  "
   ]
  },
  {
   "cell_type": "markdown",
   "metadata": {},
   "source": [
    "#### 5.1.1 Baseline<a id = '5.1.1'></a>"
   ]
  },
  {
   "cell_type": "markdown",
   "metadata": {},
   "source": [
    "**`Logistic Regression`**"
   ]
  },
  {
   "cell_type": "code",
   "execution_count": 107,
   "metadata": {},
   "outputs": [
    {
     "name": "stdout",
     "output_type": "stream",
     "text": [
      "Confusion Matrix: [[12771  7695]\n",
      " [38837 14012]]\n",
      "Accuracy:  0.3653140557866739\n",
      "Test Result:\n",
      "\n",
      "accuracy score: 0.7343\n",
      "\n",
      "Classification Report: \n",
      "               precision    recall  f1-score   support\n",
      "\n",
      "           0       0.58      0.18      0.27     20466\n",
      "           1       0.75      0.95      0.84     52849\n",
      "\n",
      "    accuracy                           0.73     73315\n",
      "   macro avg       0.66      0.56      0.56     73315\n",
      "weighted avg       0.70      0.73      0.68     73315\n",
      "\n",
      "\n",
      "Confusion Matrix: \n",
      " [[ 3651 16815]\n",
      " [ 2667 50182]]\n",
      "\n"
     ]
    }
   ],
   "source": [
    "from sklearn.linear_model import LogisticRegression\n",
    "from sklearn.tree import DecisionTreeClassifier\n",
    "from sklearn.ensemble import RandomForestClassifier\n",
    "from sklearn.ensemble import AdaBoostClassifier\n",
    "from sklearn.ensemble import BaggingClassifier\n",
    "from sklearn.ensemble import GradientBoostingClassifier\n",
    "from sklearn import metrics\n",
    "from sklearn.metrics import confusion_matrix\n",
    "\n",
    "\n",
    "model=LogisticRegression(random_state = 10)\n",
    "model.fit(X_train_std,y_train)\n",
    "y_predict=model.predict(X_test)\n",
    "\n",
    "print(\"Confusion Matrix:\", confusion_matrix(y_test, y_pred))\n",
    "\n",
    "print(\"Accuracy: \", accuracy_score(y_test, y_pred))\n",
    "\n",
    "print_score(model, X_train_std, y_train, X_test_std, y_test, train=False)\n"
   ]
  },
  {
   "cell_type": "code",
   "execution_count": 108,
   "metadata": {},
   "outputs": [
    {
     "name": "stdout",
     "output_type": "stream",
     "text": [
      "Confusion Matrix: [[ 7621 12845]\n",
      " [13960 38889]]\n",
      "Accuracy:  0.6343858691945714\n",
      "Test Result:\n",
      "\n",
      "accuracy score: 0.6344\n",
      "\n",
      "Classification Report: \n",
      "               precision    recall  f1-score   support\n",
      "\n",
      "           0       0.35      0.37      0.36     20466\n",
      "           1       0.75      0.74      0.74     52849\n",
      "\n",
      "    accuracy                           0.63     73315\n",
      "   macro avg       0.55      0.55      0.55     73315\n",
      "weighted avg       0.64      0.63      0.64     73315\n",
      "\n",
      "\n",
      "Confusion Matrix: \n",
      " [[ 7621 12845]\n",
      " [13960 38889]]\n",
      "\n"
     ]
    }
   ],
   "source": [
    "# Plain Decision Tree classifier \n",
    "\n",
    "dt_model = DecisionTreeClassifier()\n",
    "dt_model.fit(X_train_std, y_train)\n",
    "\n",
    "y_pred = dt_model.predict(X_test_std)\n",
    "\n",
    "#Confusion matrix for DT\n",
    "\n",
    "print(\"Confusion Matrix:\", confusion_matrix(y_test, y_pred))\n",
    "\n",
    "print(\"Accuracy: \", accuracy_score(y_test, y_pred))\n",
    "\n",
    "print_score(dt_model, X_train_std, y_train, X_test_std, y_test, train=False)"
   ]
  },
  {
   "cell_type": "code",
   "execution_count": 109,
   "metadata": {},
   "outputs": [
    {
     "name": "stdout",
     "output_type": "stream",
     "text": [
      "Confusion Matrix: [[ 3128 17338]\n",
      " [ 2961 49888]]\n",
      "Accuracy:  0.7231262361044807\n",
      "Test Result:\n",
      "\n",
      "accuracy score: 0.7231\n",
      "\n",
      "Classification Report: \n",
      "               precision    recall  f1-score   support\n",
      "\n",
      "           0       0.51      0.15      0.24     20466\n",
      "           1       0.74      0.94      0.83     52849\n",
      "\n",
      "    accuracy                           0.72     73315\n",
      "   macro avg       0.63      0.55      0.53     73315\n",
      "weighted avg       0.68      0.72      0.66     73315\n",
      "\n",
      "\n",
      "Confusion Matrix: \n",
      " [[ 3128 17338]\n",
      " [ 2961 49888]]\n",
      "\n"
     ]
    }
   ],
   "source": [
    "# Pruning the DT \n",
    "\n",
    "clf_pruned = DecisionTreeClassifier(criterion = \"entropy\", random_state = 100, max_depth=3, min_samples_leaf=5)\n",
    "clf_pruned.fit(X_train_std, y_train)\n",
    "\n",
    "## Calculating feature importance\n",
    "\n",
    "feat_importance = clf_pruned.tree_.compute_feature_importances(normalize=False)\n",
    "\n",
    "feature_cols = X_train.columns\n",
    "feat_imp_dict = dict(zip(feature_cols, clf_pruned.feature_importances_))\n",
    "feat_imp = pd.DataFrame.from_dict(feat_imp_dict, orient='index')\n",
    "feat_imp.sort_values(by=0, ascending=False)[0:10] #Top 10 features\n",
    "\n",
    "preds_pruned = clf_pruned.predict(X_test_std)\n",
    "preds_pruned_train = clf_pruned.predict(X_train_std)\n",
    "\n",
    "print(\"Confusion Matrix:\", confusion_matrix(y_test, preds_pruned))\n",
    "\n",
    "print(\"Accuracy: \", accuracy_score(y_test, preds_pruned))\n",
    "\n",
    "print_score(clf_pruned, X_train_std, y_train, X_test_std, y_test, train=False)\n"
   ]
  },
  {
   "cell_type": "code",
   "execution_count": 116,
   "metadata": {},
   "outputs": [
    {
     "name": "stdout",
     "output_type": "stream",
     "text": [
      "Test Result:\n",
      "\n",
      "accuracy score: 0.7295\n",
      "\n",
      "Classification Report: \n",
      "               precision    recall  f1-score   support\n",
      "\n",
      "           0       0.54      0.20      0.30     20466\n",
      "           1       0.75      0.93      0.83     52849\n",
      "\n",
      "    accuracy                           0.73     73315\n",
      "   macro avg       0.65      0.57      0.56     73315\n",
      "weighted avg       0.69      0.73      0.68     73315\n",
      "\n",
      "\n",
      "Confusion Matrix: \n",
      " [[ 4194 16272]\n",
      " [ 3559 49290]]\n",
      "\n"
     ]
    }
   ],
   "source": [
    "# Random Forest Model training \n",
    "rfcl = RandomForestClassifier(n_estimators = 50)\n",
    "rfcl = rfcl.fit(X_train_std, y_train)\n",
    "\n",
    "\n",
    "pred_RF = rfcl.predict(X_test_std)\n",
    "\n",
    "print_score(rfcl, X_train_std, y_train, X_test_std, y_test, train=False)\n"
   ]
  },
  {
   "cell_type": "code",
   "execution_count": 110,
   "metadata": {},
   "outputs": [
    {
     "name": "stdout",
     "output_type": "stream",
     "text": [
      "Test Result:\n",
      "\n",
      "accuracy score: 0.7325\n",
      "\n",
      "Classification Report: \n",
      "               precision    recall  f1-score   support\n",
      "\n",
      "           0       0.60      0.13      0.21     20466\n",
      "           1       0.74      0.97      0.84     52849\n",
      "\n",
      "    accuracy                           0.73     73315\n",
      "   macro avg       0.67      0.55      0.52     73315\n",
      "weighted avg       0.70      0.73      0.66     73315\n",
      "\n",
      "\n",
      "Confusion Matrix: \n",
      " [[ 2622 17844]\n",
      " [ 1767 51082]]\n",
      "\n"
     ]
    }
   ],
   "source": [
    "# Ada Boost model Training \n",
    "\n",
    "abcl = AdaBoostClassifier( n_estimators= 200, learning_rate=0.1, random_state=22)\n",
    "abcl = abcl.fit(X_train_std, y_train)\n",
    "pred_AB =abcl.predict(X_test_std)\n",
    "\n",
    "print_score(abcl, X_train_std, y_train, X_test_std, y_test, train=False)"
   ]
  },
  {
   "cell_type": "code",
   "execution_count": 111,
   "metadata": {},
   "outputs": [
    {
     "name": "stdout",
     "output_type": "stream",
     "text": [
      "Test Result:\n",
      "\n",
      "accuracy score: 0.7304\n",
      "\n",
      "Classification Report: \n",
      "               precision    recall  f1-score   support\n",
      "\n",
      "           0       0.54      0.22      0.31     20466\n",
      "           1       0.75      0.93      0.83     52849\n",
      "\n",
      "    accuracy                           0.73     73315\n",
      "   macro avg       0.65      0.57      0.57     73315\n",
      "weighted avg       0.70      0.73      0.69     73315\n",
      "\n",
      "\n",
      "Confusion Matrix: \n",
      " [[ 4484 15982]\n",
      " [ 3782 49067]]\n",
      "\n"
     ]
    }
   ],
   "source": [
    "# Bagging model training \n",
    "\n",
    "bgcl = BaggingClassifier(n_estimators=100, max_samples= .7, bootstrap=True, oob_score=True, random_state=22)\n",
    "bgcl = bgcl.fit(X_train_std, y_train)\n",
    "\n",
    "pred_BG =bgcl.predict(X_test_std)\n",
    "\n",
    "print_score(bgcl, X_train_std, y_train, X_test_std, y_test, train=False)\n"
   ]
  },
  {
   "cell_type": "code",
   "execution_count": 117,
   "metadata": {},
   "outputs": [
    {
     "name": "stdout",
     "output_type": "stream",
     "text": [
      "bagging Classifier Score:  0.6986982467063467\n",
      "ada boost Classifier:  0.7059684575044336\n",
      "Random Forest Classifier:  0.6945809657626733\n"
     ]
    }
   ],
   "source": [
    "# Defining the variables to calculate ROC\n",
    "\n",
    "\n",
    "pred_bag1 = bgcl.predict_proba(X_test_std)[:, 1]\n",
    "pred_ada1 = abcl.predict_proba(X_test_std)[:, 1]\n",
    "pred_RF1 = rfcl.predict_proba(X_test_std)[:, 1]\n",
    "\n",
    "\n",
    "bag_fpr, bag_tpr, bag_threshold = roc_curve(y_test, pred_bag1)\n",
    "ada_fpr, ada_tpr, ada_threshold = roc_curve(y_test, pred_ada1)\n",
    "rf_fpr, rf_tpr, rf_threshold = roc_curve(y_test, pred_RF1)\n",
    "\n",
    "\n",
    "print('bagging Classifier Score: ', roc_auc_score(y_test, pred_bag1))\n",
    "print('ada boost Classifier: ', roc_auc_score(y_test, pred_ada1))\n",
    "print('Random Forest Classifier: ', roc_auc_score(y_test, pred_RF1))\n"
   ]
  },
  {
   "cell_type": "code",
   "execution_count": 118,
   "metadata": {},
   "outputs": [
    {
     "data": {
      "image/png": "[encoded data removed]",
      "text/plain": [
       "<Figure size 976x732 with 1 Axes>"
      ]
     },
     "metadata": {
      "needs_background": "light"
     },
     "output_type": "display_data"
    }
   ],
   "source": [
    "def graph_roc_curve_multiple(bag_fpr, bag_tpr, ada_fpr, ada_tpr,rf_fpr,rf_tpr):\n",
    "    plt.figure(figsize=(8,6))\n",
    "    plt.title('ROC Curve \\n Top 3 Classifiers', fontsize=18)\n",
    "    #plt.plot(grd_fpr, grd_tpr, label='Gradient Boosting Classifier (Score = 79.59%)')\n",
    "    plt.plot(bag_fpr, bag_tpr, label='Bagging Classifier (Score = 69.86%)')\n",
    "    plt.plot(ada_fpr, ada_tpr, label='Ada Boosting Classifier (Score = 70%)')\n",
    "    plt.plot(rf_fpr, rf_tpr, label='Random Forest Classifier (Score = 69.4%)')\n",
    "    plt.plot([0, 1], [0, 1], 'k--')\n",
    "    plt.axis([0, 1, 0, 1])\n",
    "    plt.xlabel('False Positive Rate', fontsize=16)\n",
    "    plt.ylabel('True Positive Rate', fontsize=16)\n",
    "    plt.annotate('Minimum ROC Score of 50% \\n (This is the minimum score to get)', xy=(0.5, 0.5), xytext=(0.6, 0.3),\n",
    "                arrowprops=dict(facecolor='#6E726D', shrink=0.05),\n",
    "                )\n",
    "    plt.legend()\n",
    "    plt.grid(True)\n",
    "    \n",
    "graph_roc_curve_multiple(bag_fpr, bag_tpr, ada_fpr, ada_tpr,rf_fpr,rf_tpr)\n",
    "plt.show()"
   ]
  },
  {
   "cell_type": "markdown",
   "metadata": {},
   "source": [
    "* Positive (0): Fully Paid\n",
    "* Negative (1): CHarged off \n",
    "* Precision is defined as `True Positive/(True Positive + False Positive)`.\n",
    "* Recall is defined as `True Positive/(True Positive + False Negative)`.\n",
    "\n",
    "here true positive is all the cursotmer who are fully paid and labelled correct and false negative are \n",
    "customers who are tagged as not fully paid off that actually paid off , in this case investor may loose a potential opportunity to invest in some one who will fully pay \n",
    "\n",
    "and also by considering FPR : `False Positive/(False Positive + True Negative)`.\n",
    " is where potential bad \n",
    "customers predicted as fully paid even though they are charged off , in this case investor may \n",
    "wrongly invest in some one who may not fully pay \n",
    "\n"
   ]
  },
  {
   "cell_type": "markdown",
   "metadata": {},
   "source": [
    "# 6 . Improvements and suggestions "
   ]
  },
  {
   "cell_type": "code",
   "execution_count": null,
   "metadata": {},
   "outputs": [],
   "source": [
    "# we can apply the Feature selection to select only relevant Features and Also we can apply PCA\n",
    "#for dimensionality Reduction \n",
    "# feature selection using LASSO\n",
    "\n",
    "train_df_X_Norm = sc.fit_transform(X)\n",
    "\n",
    "embeded_lr_selector = SelectFromModel(LogisticRegression(penalty=\"l2\"))\n",
    "embeded_lr_selector.fit(train_df_X_Norm, y)\n",
    "\n",
    "embeded_lr_support = embeded_lr_selector.get_support()\n",
    "embeded_lr_feature = X.loc[:,embeded_lr_support].columns.tolist()\n",
    "print(str(len(embeded_lr_feature)), 'selected features')\n",
    "\n"
   ]
  },
  {
   "cell_type": "code",
   "execution_count": null,
   "metadata": {},
   "outputs": [],
   "source": [
    "# I have applied Grid Search As well but due to computational limitations of my laptop i was not \n",
    "# able to properly train it , below is the code to trian using Grid Search \n",
    "\n",
    "from sklearn.model_selection import GridSearchCV\n",
    "\n",
    "gs = GridSearchCV(estimator = DecisionTreeClassifier(random_state=0),\n",
    "                 param_grid = [{'max_depth':[1,2,3,4,5,6,7]}],\n",
    "                 scoring = 'accuracy',\n",
    "                 cv=2)\n",
    "\n",
    "gs = gs.fit(X_train_std,y_train)\n",
    "\n",
    "print(gs.best_score_)\n",
    "print(gs.best_params_)\n"
   ]
  },
  {
   "cell_type": "code",
   "execution_count": 112,
   "metadata": {},
   "outputs": [],
   "source": [
    "# additionally we could apply different advanced boositng techniques like XG Boost , Light Boost ,\n",
    "# cat Boost and pipe lines to clean up the coding part \n",
    "# another interesting thing we can do is apply Neural netwrok regressor as well "
   ]
  }
 ],
 "metadata": {
  "kernelspec": {
   "display_name": "Python 3",
   "language": "python",
   "name": "python3"
  },
  "language_info": {
   "codemirror_mode": {
    "name": "ipython",
    "version": 3
   },
   "file_extension": ".py",
   "mimetype": "text/x-python",
   "name": "python",
   "nbconvert_exporter": "python",
   "pygments_lexer": "ipython3",
   "version": "3.7.1"
  },
  "toc": {
   "base_numbering": 1,
   "nav_menu": {},
   "number_sections": true,
   "sideBar": true,
   "skip_h1_title": false,
   "title_cell": "Table of Contents",
   "title_sidebar": "Contents",
   "toc_cell": true,
   "toc_position": {},
   "toc_section_display": true,
   "toc_window_display": false
  },
  "toc-autonumbering": false,
  "toc-showcode": false,
  "varInspector": {
   "cols": {
    "lenName": 16,
    "lenType": 16,
    "lenVar": 40
   },
   "kernels_config": {
    "python": {
     "delete_cmd_postfix": "",
     "delete_cmd_prefix": "del ",
     "library": "var_list.py",
     "varRefreshCmd": "print(var_dic_list())"
    },
    "r": {
     "delete_cmd_postfix": ") ",
     "delete_cmd_prefix": "rm(",
     "library": "var_list.r",
     "varRefreshCmd": "cat(var_dic_list()) "
    }
   },
   "types_to_exclude": [
    "module",
    "function",
    "builtin_function_or_method",
    "instance",
    "_Feature"
   ],
   "window_display": false
  }
 },
 "nbformat": 4,
 "nbformat_minor": 4
}
