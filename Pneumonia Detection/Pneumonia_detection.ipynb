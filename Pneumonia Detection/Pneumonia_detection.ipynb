{
  "nbformat": 4,
  "nbformat_minor": 0,
  "metadata": {
    "kernelspec": {
      "name": "python3",
      "display_name": "Python 3"
    },
    "language_info": {
      "codemirror_mode": {
        "name": "ipython",
        "version": 3
      },
      "file_extension": ".py",
      "mimetype": "text/x-python",
      "name": "python",
      "nbconvert_exporter": "python",
      "pygments_lexer": "ipython3",
      "version": "3.7.1"
    },
    "colab": {
      "name": "Untitled.ipynb",
      "provenance": [],
      "collapsed_sections": [],
      "machine_shape": "hm"
    },
    "accelerator": "GPU"
  },
  "cells": [
    {
      "cell_type": "markdown",
      "metadata": {
        "id": "l9c-973a0yIZ",
        "colab_type": "text"
      },
      "source": [
        "**Modelling Steps:**\n",
        "\n",
        "    \n",
        "    1. Loading the datasets \n",
        "    2. Data pre-processing\n",
        "    3. Building the model\n",
        "    4. Compiling the model\n",
        "    5. Training the model\n",
        "    6. Save the Model weights\n",
        "    7. Using our model to make predictions on Test images\n",
        "    8. Export the results to .csv file \n",
        "    "
      ]
    },
    {
      "cell_type": "code",
      "metadata": {
        "id": "Ps3T1s5K0u5l",
        "colab_type": "code",
        "colab": {}
      },
      "source": [
        "import pandas as pd \n",
        "import numpy as np \n",
        "import glob,pylab\n",
        "!pip install pydicom\n",
        "import pydicom\n",
        "import os \n",
        "from zipfile import ZipFile\n",
        "import csv\n",
        "from tqdm import tqdm_notebook\n",
        "import os\n",
        "import cv2\n",
        "from skimage import measure\n",
        "from skimage.transform import \n",
        "import PIL # optional\n",
        "\n",
        "import seaborn as sns\n",
        "import warnings \n",
        "import matplotlib.pyplot as plt\n",
        "\n",
        "from sklearn.model_selection import train_test_split\n",
        "\n",
        "import keras\n",
        "from keras.utils import to_categorical\n",
        "from keras.models import Sequential, Input,Model\n",
        "from keras.layers import Dense,Dropout,Flatten\n",
        "from keras.layers import Conv2D,MaxPooling2D\n",
        "from keras.layers.normalization import BatchNormalization\n",
        "from keras.layers.advanced_activations import LeakyReLU\n",
        "from keras.models import model_from_json\n",
        "from keras.callbacks import EarlyStopping,ReduceLROnPlateau"
      ],
      "execution_count": 0,
      "outputs": []
    },
    {
      "cell_type": "code",
      "metadata": {
        "id": "Bli-p9q5Ov72",
        "colab_type": "code",
        "outputId": "5682cf63-d190-467f-9524-fccff89128d0",
        "colab": {
          "base_uri": "https://localhost:8080/",
          "height": 128
        }
      },
      "source": [
        "# Moutning the Google Drive\n",
        "from google.colab import drive\n",
        "drive.mount('/content/drive/')"
      ],
      "execution_count": 0,
      "outputs": [
        {
          "output_type": "stream",
          "text": [
            "Go to this URL in a browser: https://accounts.google.com/o/oauth2/auth?client_id=947318989803-6bn6qk8qdgf4n4g3pfee6491hc0brc4i.apps.googleusercontent.com&redirect_uri=urn%3aietf%3awg%3aoauth%3a2.0%3aoob&response_type=code&scope=email%20https%3a%2f%2fwww.googleapis.com%2fauth%2fdocs.test%20https%3a%2f%2fwww.googleapis.com%2fauth%2fdrive%20https%3a%2f%2fwww.googleapis.com%2fauth%2fdrive.photos.readonly%20https%3a%2f%2fwww.googleapis.com%2fauth%2fpeopleapi.readonly\n",
            "\n",
            "Enter your authorization code:\n",
            "··········\n",
            "Mounted at /content/drive/\n"
          ],
          "name": "stdout"
        }
      ]
    },
    {
      "cell_type": "code",
      "metadata": {
        "id": "JqKWJixjO0Il",
        "colab_type": "code",
        "colab": {}
      },
      "source": [
        "# Defining the Project Path\n",
        "Project_Path = '/content/drive/My Drive/Capstone/rsna-pneumonia-detection-challenge.zip'\n",
        "train_path = '/content/stage_2_train_images/'\n",
        "test_path = '/content/stage_2_test_images/'"
      ],
      "execution_count": 0,
      "outputs": []
    },
    {
      "cell_type": "code",
      "metadata": {
        "id": "a4u5TOyT3EVO",
        "colab_type": "code",
        "colab": {}
      },
      "source": [
        "#Extract Glove embedding zip file\n",
        "\n",
        "with ZipFile(Project_Path, 'r') as z:\n",
        "  z.extractall()"
      ],
      "execution_count": 0,
      "outputs": []
    },
    {
      "cell_type": "code",
      "metadata": {
        "id": "RQMfmRRiOtl6",
        "colab_type": "code",
        "outputId": "684dfffc-9858-42c2-f332-003a306112e0",
        "colab": {
          "base_uri": "https://localhost:8080/",
          "height": 198
        }
      },
      "source": [
        "# reading the training data set with bounding box data \n",
        "df = pd.read_csv('/content/stage_2_train_labels.csv')\n",
        "df.head()"
      ],
      "execution_count": 0,
      "outputs": [
        {
          "output_type": "execute_result",
          "data": {
            "text/html": [
              "<div>\n",
              "<style scoped>\n",
              "    .dataframe tbody tr th:only-of-type {\n",
              "        vertical-align: middle;\n",
              "    }\n",
              "\n",
              "    .dataframe tbody tr th {\n",
              "        vertical-align: top;\n",
              "    }\n",
              "\n",
              "    .dataframe thead th {\n",
              "        text-align: right;\n",
              "    }\n",
              "</style>\n",
              "<table border=\"1\" class=\"dataframe\">\n",
              "  <thead>\n",
              "    <tr style=\"text-align: right;\">\n",
              "      <th></th>\n",
              "      <th>patientId</th>\n",
              "      <th>x</th>\n",
              "      <th>y</th>\n",
              "      <th>width</th>\n",
              "      <th>height</th>\n",
              "      <th>Target</th>\n",
              "    </tr>\n",
              "  </thead>\n",
              "  <tbody>\n",
              "    <tr>\n",
              "      <th>0</th>\n",
              "      <td>0004cfab-14fd-4e49-80ba-63a80b6bddd6</td>\n",
              "      <td>NaN</td>\n",
              "      <td>NaN</td>\n",
              "      <td>NaN</td>\n",
              "      <td>NaN</td>\n",
              "      <td>0</td>\n",
              "    </tr>\n",
              "    <tr>\n",
              "      <th>1</th>\n",
              "      <td>00313ee0-9eaa-42f4-b0ab-c148ed3241cd</td>\n",
              "      <td>NaN</td>\n",
              "      <td>NaN</td>\n",
              "      <td>NaN</td>\n",
              "      <td>NaN</td>\n",
              "      <td>0</td>\n",
              "    </tr>\n",
              "    <tr>\n",
              "      <th>2</th>\n",
              "      <td>00322d4d-1c29-4943-afc9-b6754be640eb</td>\n",
              "      <td>NaN</td>\n",
              "      <td>NaN</td>\n",
              "      <td>NaN</td>\n",
              "      <td>NaN</td>\n",
              "      <td>0</td>\n",
              "    </tr>\n",
              "    <tr>\n",
              "      <th>3</th>\n",
              "      <td>003d8fa0-6bf1-40ed-b54c-ac657f8495c5</td>\n",
              "      <td>NaN</td>\n",
              "      <td>NaN</td>\n",
              "      <td>NaN</td>\n",
              "      <td>NaN</td>\n",
              "      <td>0</td>\n",
              "    </tr>\n",
              "    <tr>\n",
              "      <th>4</th>\n",
              "      <td>00436515-870c-4b36-a041-de91049b9ab4</td>\n",
              "      <td>264.0</td>\n",
              "      <td>152.0</td>\n",
              "      <td>213.0</td>\n",
              "      <td>379.0</td>\n",
              "      <td>1</td>\n",
              "    </tr>\n",
              "  </tbody>\n",
              "</table>\n",
              "</div>"
            ],
            "text/plain": [
              "                              patientId      x      y  width  height  Target\n",
              "0  0004cfab-14fd-4e49-80ba-63a80b6bddd6    NaN    NaN    NaN     NaN       0\n",
              "1  00313ee0-9eaa-42f4-b0ab-c148ed3241cd    NaN    NaN    NaN     NaN       0\n",
              "2  00322d4d-1c29-4943-afc9-b6754be640eb    NaN    NaN    NaN     NaN       0\n",
              "3  003d8fa0-6bf1-40ed-b54c-ac657f8495c5    NaN    NaN    NaN     NaN       0\n",
              "4  00436515-870c-4b36-a041-de91049b9ab4  264.0  152.0  213.0   379.0       1"
            ]
          },
          "metadata": {
            "tags": []
          },
          "execution_count": 3
        }
      ]
    },
    {
      "cell_type": "code",
      "metadata": {
        "id": "lvqm2hhcOtl_",
        "colab_type": "code",
        "outputId": "9683d092-40d0-4b5e-f4ff-d9451d5a12b4",
        "colab": {
          "base_uri": "https://localhost:8080/",
          "height": 145
        }
      },
      "source": [
        "df.iloc[4]"
      ],
      "execution_count": 0,
      "outputs": [
        {
          "output_type": "execute_result",
          "data": {
            "text/plain": [
              "patientId    00436515-870c-4b36-a041-de91049b9ab4\n",
              "x                                             264\n",
              "y                                             152\n",
              "width                                         213\n",
              "height                                        379\n",
              "Target                                          1\n",
              "Name: 4, dtype: object"
            ]
          },
          "metadata": {
            "tags": []
          },
          "execution_count": 6
        }
      ]
    },
    {
      "cell_type": "markdown",
      "metadata": {
        "id": "KTTHvgQVXW1Y",
        "colab_type": "text"
      },
      "source": [
        "# New Section"
      ]
    },
    {
      "cell_type": "code",
      "metadata": {
        "id": "CN1JstWvOtmC",
        "colab_type": "code",
        "outputId": "fca92804-0468-4f13-8ade-7504d0da34fd",
        "colab": {
          "base_uri": "https://localhost:8080/",
          "height": 654
        }
      },
      "source": [
        "# reading the sample dicom data to see the features available \n",
        "patientid = df['patientId'][0]\n",
        "dcm_file = '/content/stage_2_train_images/%s.dcm' % patientid\n",
        "dcm_data = pydicom.read_file(dcm_file)\n",
        "dcm_data"
      ],
      "execution_count": 0,
      "outputs": [
        {
          "output_type": "execute_result",
          "data": {
            "text/plain": [
              "(0008, 0005) Specific Character Set              CS: 'ISO_IR 100'\n",
              "(0008, 0016) SOP Class UID                       UI: Secondary Capture Image Storage\n",
              "(0008, 0018) SOP Instance UID                    UI: 1.2.276.0.7230010.3.1.4.8323329.28530.1517874485.775526\n",
              "(0008, 0020) Study Date                          DA: '19010101'\n",
              "(0008, 0030) Study Time                          TM: '000000.00'\n",
              "(0008, 0050) Accession Number                    SH: ''\n",
              "(0008, 0060) Modality                            CS: 'CR'\n",
              "(0008, 0064) Conversion Type                     CS: 'WSD'\n",
              "(0008, 0090) Referring Physician's Name          PN: ''\n",
              "(0008, 103e) Series Description                  LO: 'view: PA'\n",
              "(0010, 0010) Patient's Name                      PN: '0004cfab-14fd-4e49-80ba-63a80b6bddd6'\n",
              "(0010, 0020) Patient ID                          LO: '0004cfab-14fd-4e49-80ba-63a80b6bddd6'\n",
              "(0010, 0030) Patient's Birth Date                DA: ''\n",
              "(0010, 0040) Patient's Sex                       CS: 'F'\n",
              "(0010, 1010) Patient's Age                       AS: '51'\n",
              "(0018, 0015) Body Part Examined                  CS: 'CHEST'\n",
              "(0018, 5101) View Position                       CS: 'PA'\n",
              "(0020, 000d) Study Instance UID                  UI: 1.2.276.0.7230010.3.1.2.8323329.28530.1517874485.775525\n",
              "(0020, 000e) Series Instance UID                 UI: 1.2.276.0.7230010.3.1.3.8323329.28530.1517874485.775524\n",
              "(0020, 0010) Study ID                            SH: ''\n",
              "(0020, 0011) Series Number                       IS: \"1\"\n",
              "(0020, 0013) Instance Number                     IS: \"1\"\n",
              "(0020, 0020) Patient Orientation                 CS: ''\n",
              "(0028, 0002) Samples per Pixel                   US: 1\n",
              "(0028, 0004) Photometric Interpretation          CS: 'MONOCHROME2'\n",
              "(0028, 0010) Rows                                US: 1024\n",
              "(0028, 0011) Columns                             US: 1024\n",
              "(0028, 0030) Pixel Spacing                       DS: [0.14300000000000002, 0.14300000000000002]\n",
              "(0028, 0100) Bits Allocated                      US: 8\n",
              "(0028, 0101) Bits Stored                         US: 8\n",
              "(0028, 0102) High Bit                            US: 7\n",
              "(0028, 0103) Pixel Representation                US: 0\n",
              "(0028, 2110) Lossy Image Compression             CS: '01'\n",
              "(0028, 2114) Lossy Image Compression Method      CS: 'ISO_10918_1'\n",
              "(7fe0, 0010) Pixel Data                          OB: Array of 142006 elements"
            ]
          },
          "metadata": {
            "tags": []
          },
          "execution_count": 7
        }
      ]
    },
    {
      "cell_type": "code",
      "metadata": {
        "id": "EzUYUww9OtmF",
        "colab_type": "code",
        "colab": {}
      },
      "source": [
        "im = dcm_data.pixel_array"
      ],
      "execution_count": 0,
      "outputs": []
    },
    {
      "cell_type": "code",
      "metadata": {
        "id": "JPDaysnTOtmI",
        "colab_type": "code",
        "outputId": "a00671b5-bc80-4f77-bbb6-fdadbade69e3",
        "colab": {
          "base_uri": "https://localhost:8080/",
          "height": 396
        }
      },
      "source": [
        "# sample image of one of the patient \n",
        "pylab.imshow(im)\n",
        "print(im)"
      ],
      "execution_count": 0,
      "outputs": [
        {
          "output_type": "stream",
          "text": [
            "[[144 128 114 ... 176 184 117]\n",
            " [125 109  95 ... 171 178 111]\n",
            " [104  89  75 ... 166 175 108]\n",
            " ...\n",
            " [ 16  14  11 ...  19  15   3]\n",
            " [ 18  16  12 ...  21  17   5]\n",
            " [ 19  17  13 ...  23  19   6]]\n"
          ],
          "name": "stdout"
        },
        {
          "output_type": "display_data",
          "data": {
            "image/png": "[encoded data removed]",
            "text/plain": [
              "<Figure size 432x288 with 1 Axes>"
            ]
          },
          "metadata": {
            "tags": []
          }
        }
      ]
    },
    {
      "cell_type": "code",
      "metadata": {
        "id": "70GIjxpvOtmL",
        "colab_type": "code",
        "colab": {}
      },
      "source": [
        "# Defining the function to parse and create a dictionary with all bounding box data at same point \n",
        "\n",
        "def parse_data(df):\n",
        "    \n",
        "    bounding_box = lambda row: [row['y'],row['x'],row['height'],row['width']]\n",
        "    \n",
        "    parsed = {}\n",
        "    \n",
        "    for n, row in df.iterrows():\n",
        "        pid = row['patientId']\n",
        "        \n",
        "        if pid not in parsed:\n",
        "            parsed[pid] = {\n",
        "                'dicom':'stage_2_train_images/%s.dcm' % pid,\n",
        "                'label': row['Target'],\n",
        "                'boxes': []\n",
        "            }\n",
        "        if parsed[pid]['label'] == 1:\n",
        "            parsed[pid]['boxes'].append(bounding_box(row))\n",
        "    return parsed\n"
      ],
      "execution_count": 0,
      "outputs": []
    },
    {
      "cell_type": "code",
      "metadata": {
        "id": "D3I9jz5NOtmO",
        "colab_type": "code",
        "colab": {}
      },
      "source": [
        "parsed = parse_data(df)"
      ],
      "execution_count": 0,
      "outputs": []
    },
    {
      "cell_type": "code",
      "metadata": {
        "id": "6qx3yHCtOtmR",
        "colab_type": "code",
        "outputId": "6e6912dd-73b0-44e2-bd5d-afab892795f8",
        "colab": {
          "base_uri": "https://localhost:8080/",
          "height": 72
        }
      },
      "source": [
        "parsed['00436515-870c-4b36-a041-de91049b9ab4']"
      ],
      "execution_count": 0,
      "outputs": [
        {
          "output_type": "execute_result",
          "data": {
            "text/plain": [
              "{'boxes': [[152.0, 264.0, 379.0, 213.0], [152.0, 562.0, 453.0, 256.0]],\n",
              " 'dicom': 'stage_2_train_images/00436515-870c-4b36-a041-de91049b9ab4.dcm',\n",
              " 'label': 1}"
            ]
          },
          "metadata": {
            "tags": []
          },
          "execution_count": 12
        }
      ]
    },
    {
      "cell_type": "code",
      "metadata": {
        "id": "5JNYXSW_OtmT",
        "colab_type": "code",
        "colab": {}
      },
      "source": [
        "# Defining the function to draw bouding box over one of the patient dicom image \n",
        "def draw(data):\n",
        "    \n",
        "    d = pydicom.read_file(data['dicom'])\n",
        "    im = d.pixel_array\n",
        "    \n",
        "    im = np.stack([im]*3,axis = 2)\n",
        "    \n",
        "    for box in data['boxes']:\n",
        "        rgb = np.floor(np.random.rand(3)*256).astype('int')\n",
        "        im = overlay_box(im=im,box=box,rgb = rgb,stroke =6)\n",
        "    pylab.imshow(im)\n",
        "\n",
        "def overlay_box(im,box,rgb,stroke=1):\n",
        "    \n",
        "    box = [int(b) for b in box]\n",
        "    \n",
        "    y1,x1,height,width = box\n",
        "    y2 = y1+height\n",
        "    x2 = x1+width\n",
        "    \n",
        "    im[y1:y1+stroke,x1:x2] = rgb\n",
        "    im[y2:y2+stroke,x1:x2] = rgb\n",
        "    im[y1:y2,x1:x1+stroke] = rgb\n",
        "    im[y1:y2,x2:x2+stroke] = rgb\n",
        "    \n",
        "    return im"
      ],
      "execution_count": 0,
      "outputs": []
    },
    {
      "cell_type": "code",
      "metadata": {
        "id": "7FgWJ42oOtmW",
        "colab_type": "code",
        "outputId": "e57d95d4-065b-4a80-e313-3c657879a276",
        "colab": {
          "base_uri": "https://localhost:8080/",
          "height": 269
        }
      },
      "source": [
        "draw(parsed['00436515-870c-4b36-a041-de91049b9ab4'])"
      ],
      "execution_count": 0,
      "outputs": [
        {
          "output_type": "display_data",
          "data": {
            "image/png": "[encoded data removed]",
            "text/plain": [
              "<Figure size 432x288 with 1 Axes>"
            ]
          },
          "metadata": {
            "tags": []
          }
        }
      ]
    },
    {
      "cell_type": "code",
      "metadata": {
        "id": "NVGseZ3lOtmZ",
        "colab_type": "code",
        "colab": {}
      },
      "source": [
        "# Reading the labeled data \n",
        "df_labels = pd.read_csv('/content/stage_2_detailed_class_info.csv')"
      ],
      "execution_count": 0,
      "outputs": []
    },
    {
      "cell_type": "code",
      "metadata": {
        "id": "4e1O8UU1Otmc",
        "colab_type": "code",
        "outputId": "04f5350e-b720-498d-87d2-239221fcc763",
        "colab": {
          "base_uri": "https://localhost:8080/",
          "height": 473
        }
      },
      "source": [
        "print('Total number of patients:', df_labels.shape[0])\n",
        "print('total number of unique patients :', df_labels['patientId'].value_counts().shape[0])\n",
        "df_labels.groupby('class').size().plot.bar()\n",
        "#df_labels.sample(3)"
      ],
      "execution_count": 0,
      "outputs": [
        {
          "output_type": "stream",
          "text": [
            "Total number of patients: 30227\n",
            "total number of unique patients : 26684\n"
          ],
          "name": "stdout"
        },
        {
          "output_type": "execute_result",
          "data": {
            "text/plain": [
              "<matplotlib.axes._subplots.AxesSubplot at 0x7f2f51c6e080>"
            ]
          },
          "metadata": {
            "tags": []
          },
          "execution_count": 19
        },
        {
          "output_type": "display_data",
          "data": {
            "image/png": "[encoded data removed]",
            "text/plain": [
              "<Figure size 432x288 with 1 Axes>"
            ]
          },
          "metadata": {
            "tags": []
          }
        }
      ]
    },
    {
      "cell_type": "code",
      "metadata": {
        "id": "IoF4ddOuOtme",
        "colab_type": "code",
        "outputId": "1e213b9b-ba1a-4be2-a1ae-855d61d41a96",
        "colab": {
          "base_uri": "https://localhost:8080/",
          "height": 331
        }
      },
      "source": [
        "print('Total number of patients:', df.shape[0])\n",
        "print('total number of unique patients :', df['patientId'].value_counts().shape[0])\n",
        "df.groupby('Target').size().plot.bar()\n"
      ],
      "execution_count": 0,
      "outputs": [
        {
          "output_type": "stream",
          "text": [
            "Total number of patients: 30227\n",
            "total number of unique patients : 26684\n"
          ],
          "name": "stdout"
        },
        {
          "output_type": "execute_result",
          "data": {
            "text/plain": [
              "<matplotlib.axes._subplots.AxesSubplot at 0x7f2f51984978>"
            ]
          },
          "metadata": {
            "tags": []
          },
          "execution_count": 20
        },
        {
          "output_type": "display_data",
          "data": {
            "image/png": "[encoded data removed]",
            "text/plain": [
              "<Figure size 432x288 with 1 Axes>"
            ]
          },
          "metadata": {
            "tags": []
          }
        }
      ]
    },
    {
      "cell_type": "code",
      "metadata": {
        "id": "lu1HuOhVOtmh",
        "colab_type": "code",
        "outputId": "6035b224-427c-4a90-cef3-ef510f4f212b",
        "colab": {
          "base_uri": "https://localhost:8080/",
          "height": 35
        }
      },
      "source": [
        "summary = {}\n",
        "\n",
        "for n, row in df_labels.iterrows():\n",
        "    \n",
        "    if row['class'] not in summary:\n",
        "        summary[row['class']] = 0\n",
        "        \n",
        "    summary[row['class']] += 1\n",
        "    \n",
        "print(summary)"
      ],
      "execution_count": 0,
      "outputs": [
        {
          "output_type": "stream",
          "text": [
            "{'No Lung Opacity / Not Normal': 11821, 'Normal': 8851, 'Lung Opacity': 9555}\n"
          ],
          "name": "stdout"
        }
      ]
    },
    {
      "cell_type": "code",
      "metadata": {
        "id": "ixPJEdQbOtmk",
        "colab_type": "code",
        "outputId": "b5ad51bf-fd18-4f10-90a7-e5078ef91c07",
        "colab": {
          "base_uri": "https://localhost:8080/",
          "height": 72
        }
      },
      "source": [
        "df_labels.isnull().sum()"
      ],
      "execution_count": 0,
      "outputs": [
        {
          "output_type": "execute_result",
          "data": {
            "text/plain": [
              "patientId    0\n",
              "class        0\n",
              "dtype: int64"
            ]
          },
          "metadata": {
            "tags": []
          },
          "execution_count": 22
        }
      ]
    },
    {
      "cell_type": "code",
      "metadata": {
        "id": "q7JdZPFkOtmn",
        "colab_type": "code",
        "outputId": "7c58d48d-45a3-45e1-b3d3-a06dad052d7e",
        "colab": {
          "base_uri": "https://localhost:8080/",
          "height": 54
        }
      },
      "source": [
        "print(len(os.listdir('stage_2_train_images')))\n",
        "print(len(os.listdir('stage_2_test_images')))\n"
      ],
      "execution_count": 0,
      "outputs": [
        {
          "output_type": "stream",
          "text": [
            "26684\n",
            "3000\n"
          ],
          "name": "stdout"
        }
      ]
    },
    {
      "cell_type": "code",
      "metadata": {
        "id": "PNEXyNr2Otmq",
        "colab_type": "code",
        "outputId": "dd5bf13c-1331-41d2-d0da-aacdac235f05",
        "colab": {
          "base_uri": "https://localhost:8080/",
          "height": 35
        }
      },
      "source": [
        "print(df['patientId'].nunique())"
      ],
      "execution_count": 0,
      "outputs": [
        {
          "output_type": "stream",
          "text": [
            "26684\n"
          ],
          "name": "stdout"
        }
      ]
    },
    {
      "cell_type": "code",
      "metadata": {
        "id": "X091cU9VOtmt",
        "colab_type": "code",
        "outputId": "7a7a74db-a584-423a-c011-0d4db03f997d",
        "colab": {
          "base_uri": "https://localhost:8080/",
          "height": 198
        }
      },
      "source": [
        "df_labels.head()"
      ],
      "execution_count": 0,
      "outputs": [
        {
          "output_type": "execute_result",
          "data": {
            "text/html": [
              "<div>\n",
              "<style scoped>\n",
              "    .dataframe tbody tr th:only-of-type {\n",
              "        vertical-align: middle;\n",
              "    }\n",
              "\n",
              "    .dataframe tbody tr th {\n",
              "        vertical-align: top;\n",
              "    }\n",
              "\n",
              "    .dataframe thead th {\n",
              "        text-align: right;\n",
              "    }\n",
              "</style>\n",
              "<table border=\"1\" class=\"dataframe\">\n",
              "  <thead>\n",
              "    <tr style=\"text-align: right;\">\n",
              "      <th></th>\n",
              "      <th>patientId</th>\n",
              "      <th>class</th>\n",
              "    </tr>\n",
              "  </thead>\n",
              "  <tbody>\n",
              "    <tr>\n",
              "      <th>0</th>\n",
              "      <td>0004cfab-14fd-4e49-80ba-63a80b6bddd6</td>\n",
              "      <td>No Lung Opacity / Not Normal</td>\n",
              "    </tr>\n",
              "    <tr>\n",
              "      <th>1</th>\n",
              "      <td>00313ee0-9eaa-42f4-b0ab-c148ed3241cd</td>\n",
              "      <td>No Lung Opacity / Not Normal</td>\n",
              "    </tr>\n",
              "    <tr>\n",
              "      <th>2</th>\n",
              "      <td>00322d4d-1c29-4943-afc9-b6754be640eb</td>\n",
              "      <td>No Lung Opacity / Not Normal</td>\n",
              "    </tr>\n",
              "    <tr>\n",
              "      <th>3</th>\n",
              "      <td>003d8fa0-6bf1-40ed-b54c-ac657f8495c5</td>\n",
              "      <td>Normal</td>\n",
              "    </tr>\n",
              "    <tr>\n",
              "      <th>4</th>\n",
              "      <td>00436515-870c-4b36-a041-de91049b9ab4</td>\n",
              "      <td>Lung Opacity</td>\n",
              "    </tr>\n",
              "  </tbody>\n",
              "</table>\n",
              "</div>"
            ],
            "text/plain": [
              "                              patientId                         class\n",
              "0  0004cfab-14fd-4e49-80ba-63a80b6bddd6  No Lung Opacity / Not Normal\n",
              "1  00313ee0-9eaa-42f4-b0ab-c148ed3241cd  No Lung Opacity / Not Normal\n",
              "2  00322d4d-1c29-4943-afc9-b6754be640eb  No Lung Opacity / Not Normal\n",
              "3  003d8fa0-6bf1-40ed-b54c-ac657f8495c5                        Normal\n",
              "4  00436515-870c-4b36-a041-de91049b9ab4                  Lung Opacity"
            ]
          },
          "metadata": {
            "tags": []
          },
          "execution_count": 9
        }
      ]
    },
    {
      "cell_type": "code",
      "metadata": {
        "id": "mYZ_ogeKOtmv",
        "colab_type": "code",
        "outputId": "8d113b94-e887-4a8a-da21-ca31bb9b4237",
        "colab": {
          "base_uri": "https://localhost:8080/",
          "height": 198
        }
      },
      "source": [
        "#del df_comb\n",
        "assert df['patientId'].values.tolist() == df_labels['patientId'].values.tolist(), 'PatientId columns are different.'\n",
        "df_comb = pd.concat([df,df_labels.drop('patientId',1)],1)\n",
        "df_comb.head()"
      ],
      "execution_count": 0,
      "outputs": [
        {
          "output_type": "execute_result",
          "data": {
            "text/html": [
              "<div>\n",
              "<style scoped>\n",
              "    .dataframe tbody tr th:only-of-type {\n",
              "        vertical-align: middle;\n",
              "    }\n",
              "\n",
              "    .dataframe tbody tr th {\n",
              "        vertical-align: top;\n",
              "    }\n",
              "\n",
              "    .dataframe thead th {\n",
              "        text-align: right;\n",
              "    }\n",
              "</style>\n",
              "<table border=\"1\" class=\"dataframe\">\n",
              "  <thead>\n",
              "    <tr style=\"text-align: right;\">\n",
              "      <th></th>\n",
              "      <th>patientId</th>\n",
              "      <th>x</th>\n",
              "      <th>y</th>\n",
              "      <th>width</th>\n",
              "      <th>height</th>\n",
              "      <th>Target</th>\n",
              "      <th>class</th>\n",
              "    </tr>\n",
              "  </thead>\n",
              "  <tbody>\n",
              "    <tr>\n",
              "      <th>0</th>\n",
              "      <td>0004cfab-14fd-4e49-80ba-63a80b6bddd6</td>\n",
              "      <td>NaN</td>\n",
              "      <td>NaN</td>\n",
              "      <td>NaN</td>\n",
              "      <td>NaN</td>\n",
              "      <td>0</td>\n",
              "      <td>No Lung Opacity / Not Normal</td>\n",
              "    </tr>\n",
              "    <tr>\n",
              "      <th>1</th>\n",
              "      <td>00313ee0-9eaa-42f4-b0ab-c148ed3241cd</td>\n",
              "      <td>NaN</td>\n",
              "      <td>NaN</td>\n",
              "      <td>NaN</td>\n",
              "      <td>NaN</td>\n",
              "      <td>0</td>\n",
              "      <td>No Lung Opacity / Not Normal</td>\n",
              "    </tr>\n",
              "    <tr>\n",
              "      <th>2</th>\n",
              "      <td>00322d4d-1c29-4943-afc9-b6754be640eb</td>\n",
              "      <td>NaN</td>\n",
              "      <td>NaN</td>\n",
              "      <td>NaN</td>\n",
              "      <td>NaN</td>\n",
              "      <td>0</td>\n",
              "      <td>No Lung Opacity / Not Normal</td>\n",
              "    </tr>\n",
              "    <tr>\n",
              "      <th>3</th>\n",
              "      <td>003d8fa0-6bf1-40ed-b54c-ac657f8495c5</td>\n",
              "      <td>NaN</td>\n",
              "      <td>NaN</td>\n",
              "      <td>NaN</td>\n",
              "      <td>NaN</td>\n",
              "      <td>0</td>\n",
              "      <td>Normal</td>\n",
              "    </tr>\n",
              "    <tr>\n",
              "      <th>4</th>\n",
              "      <td>00436515-870c-4b36-a041-de91049b9ab4</td>\n",
              "      <td>264.0</td>\n",
              "      <td>152.0</td>\n",
              "      <td>213.0</td>\n",
              "      <td>379.0</td>\n",
              "      <td>1</td>\n",
              "      <td>Lung Opacity</td>\n",
              "    </tr>\n",
              "  </tbody>\n",
              "</table>\n",
              "</div>"
            ],
            "text/plain": [
              "                              patientId  ...                         class\n",
              "0  0004cfab-14fd-4e49-80ba-63a80b6bddd6  ...  No Lung Opacity / Not Normal\n",
              "1  00313ee0-9eaa-42f4-b0ab-c148ed3241cd  ...  No Lung Opacity / Not Normal\n",
              "2  00322d4d-1c29-4943-afc9-b6754be640eb  ...  No Lung Opacity / Not Normal\n",
              "3  003d8fa0-6bf1-40ed-b54c-ac657f8495c5  ...                        Normal\n",
              "4  00436515-870c-4b36-a041-de91049b9ab4  ...                  Lung Opacity\n",
              "\n",
              "[5 rows x 7 columns]"
            ]
          },
          "metadata": {
            "tags": []
          },
          "execution_count": 16
        }
      ]
    },
    {
      "cell_type": "code",
      "metadata": {
        "id": "Am03Hhh2Otmx",
        "colab_type": "code",
        "outputId": "111d320c-1cc6-468b-8076-c1324a88dca6",
        "colab": {
          "base_uri": "https://localhost:8080/",
          "height": 228
        }
      },
      "source": [
        "tmp =df_comb.groupby(['patientId','Target','class'])['patientId'].count()\n",
        "df1 = pd.DataFrame(data = {'Exams':tmp.values},index = tmp.index).reset_index()\n",
        "tmp1 = df1.groupby(['Exams','Target','class']).count()\n",
        "df2 = pd.DataFrame(data = tmp1.values,index = tmp1.index).reset_index()\n",
        "df2.columns = ['Exams','Target','Class','Entries']\n",
        "df2"
      ],
      "execution_count": 0,
      "outputs": [
        {
          "output_type": "execute_result",
          "data": {
            "text/html": [
              "<div>\n",
              "<style scoped>\n",
              "    .dataframe tbody tr th:only-of-type {\n",
              "        vertical-align: middle;\n",
              "    }\n",
              "\n",
              "    .dataframe tbody tr th {\n",
              "        vertical-align: top;\n",
              "    }\n",
              "\n",
              "    .dataframe thead th {\n",
              "        text-align: right;\n",
              "    }\n",
              "</style>\n",
              "<table border=\"1\" class=\"dataframe\">\n",
              "  <thead>\n",
              "    <tr style=\"text-align: right;\">\n",
              "      <th></th>\n",
              "      <th>Exams</th>\n",
              "      <th>Target</th>\n",
              "      <th>Class</th>\n",
              "      <th>Entries</th>\n",
              "    </tr>\n",
              "  </thead>\n",
              "  <tbody>\n",
              "    <tr>\n",
              "      <th>0</th>\n",
              "      <td>1</td>\n",
              "      <td>0</td>\n",
              "      <td>No Lung Opacity / Not Normal</td>\n",
              "      <td>11821</td>\n",
              "    </tr>\n",
              "    <tr>\n",
              "      <th>1</th>\n",
              "      <td>1</td>\n",
              "      <td>0</td>\n",
              "      <td>Normal</td>\n",
              "      <td>8851</td>\n",
              "    </tr>\n",
              "    <tr>\n",
              "      <th>2</th>\n",
              "      <td>1</td>\n",
              "      <td>1</td>\n",
              "      <td>Lung Opacity</td>\n",
              "      <td>2614</td>\n",
              "    </tr>\n",
              "    <tr>\n",
              "      <th>3</th>\n",
              "      <td>2</td>\n",
              "      <td>1</td>\n",
              "      <td>Lung Opacity</td>\n",
              "      <td>3266</td>\n",
              "    </tr>\n",
              "    <tr>\n",
              "      <th>4</th>\n",
              "      <td>3</td>\n",
              "      <td>1</td>\n",
              "      <td>Lung Opacity</td>\n",
              "      <td>119</td>\n",
              "    </tr>\n",
              "    <tr>\n",
              "      <th>5</th>\n",
              "      <td>4</td>\n",
              "      <td>1</td>\n",
              "      <td>Lung Opacity</td>\n",
              "      <td>13</td>\n",
              "    </tr>\n",
              "  </tbody>\n",
              "</table>\n",
              "</div>"
            ],
            "text/plain": [
              "   Exams  Target                         Class  Entries\n",
              "0      1       0  No Lung Opacity / Not Normal    11821\n",
              "1      1       0                        Normal     8851\n",
              "2      1       1                  Lung Opacity     2614\n",
              "3      2       1                  Lung Opacity     3266\n",
              "4      3       1                  Lung Opacity      119\n",
              "5      4       1                  Lung Opacity       13"
            ]
          },
          "metadata": {
            "tags": []
          },
          "execution_count": 28
        }
      ]
    },
    {
      "cell_type": "code",
      "metadata": {
        "id": "P1awRVXxOtm4",
        "colab_type": "code",
        "outputId": "3b7d5f16-0fcf-4a97-bc97-ab5904cef96d",
        "colab": {
          "base_uri": "https://localhost:8080/",
          "height": 297
        }
      },
      "source": [
        "\n",
        "warnings.filterwarnings('ignore')\n",
        "\n",
        "sns.barplot(x='Target',y = 'Entries',hue = 'Exams',data = df2)"
      ],
      "execution_count": 0,
      "outputs": [
        {
          "output_type": "execute_result",
          "data": {
            "text/plain": [
              "<matplotlib.axes._subplots.AxesSubplot at 0x7f2f47613b38>"
            ]
          },
          "metadata": {
            "tags": []
          },
          "execution_count": 29
        },
        {
          "output_type": "display_data",
          "data": {
            "image/png": "[encoded data removed]",
            "text/plain": [
              "<Figure size 432x288 with 1 Axes>"
            ]
          },
          "metadata": {
            "tags": []
          }
        }
      ]
    },
    {
      "cell_type": "code",
      "metadata": {
        "id": "RCkC9omoOtm6",
        "colab_type": "code",
        "outputId": "ff9f56d9-c9ad-40d9-be62-ab75037dda30",
        "colab": {
          "base_uri": "https://localhost:8080/",
          "height": 279
        }
      },
      "source": [
        "sns.countplot(x = 'class', hue = 'Target', data = df_comb);"
      ],
      "execution_count": 0,
      "outputs": [
        {
          "output_type": "display_data",
          "data": {
            "image/png": "[encoded data removed]",
            "text/plain": [
              "<Figure size 432x288 with 1 Axes>"
            ]
          },
          "metadata": {
            "tags": []
          }
        }
      ]
    },
    {
      "cell_type": "code",
      "metadata": {
        "id": "sI64XxX8Otm8",
        "colab_type": "code",
        "colab": {}
      },
      "source": [
        "\n",
        "vars = ['Modality', 'PatientAge', 'PatientSex', 'BodyPartExamined', 'ViewPosition']\n",
        "PATH = 'stage_2_train_images/'\n",
        "def process_dicom_data(df_comb):\n",
        "    for var in vars:\n",
        "        df_comb[var] = None\n",
        "    image_names = os.listdir(PATH)\n",
        "    for i, img_name in tqdm_notebook(enumerate(image_names)):\n",
        "        imagePath = os.path.join(PATH,img_name)\n",
        "        data_row_img_data = dcm.read_file(imagePath)\n",
        "        \n",
        "        idx = (df_comb['patientId']==data_row_img_data.PatientID)\n",
        "        df_comb.loc[idx,'Modality'] = data_row_img_data.Modality\n",
        "        df_comb.loc[idx,'PatientAge'] = pd.to_numeric(data_row_img_data.PatientAge)\n",
        "        df_comb.loc[idx,'PatientSex'] = data_row_img_data.PatientSex\n",
        "        df_comb.loc[idx,'BodyPartExamined'] = data_row_img_data.BodyPartExamined\n",
        "        df_comb.loc[idx,'ViewPosition'] = data_row_img_data.ViewPosition\n",
        "        "
      ],
      "execution_count": 0,
      "outputs": []
    },
    {
      "cell_type": "code",
      "metadata": {
        "id": "-9J-zc8DOtm_",
        "colab_type": "code",
        "colab": {}
      },
      "source": [
        "process_dicom_data(df_comb)"
      ],
      "execution_count": 0,
      "outputs": []
    },
    {
      "cell_type": "code",
      "metadata": {
        "id": "NRimFZ1lOtnB",
        "colab_type": "code",
        "outputId": "2948fc00-7a03-4888-f568-649eb84d3eb0",
        "colab": {}
      },
      "source": [
        "sns.countplot(x = 'PatientSex', hue = 'Target', data = df_comb);"
      ],
      "execution_count": 0,
      "outputs": [
        {
          "output_type": "display_data",
          "data": {
            "image/png": "[encoded data removed]",
            "text/plain": [
              "<Figure size 432x288 with 1 Axes>"
            ]
          },
          "metadata": {
            "tags": [],
            "needs_background": "light"
          }
        }
      ]
    },
    {
      "cell_type": "code",
      "metadata": {
        "id": "5UjOeLcWOtnE",
        "colab_type": "code",
        "outputId": "2e39d116-3273-48ea-a80d-7ebf3efd2a0a",
        "colab": {}
      },
      "source": [
        "sns.countplot(x = 'ViewPosition', hue = 'Target', data = df_comb);\n",
        "\n",
        "#AP - Anterior/Posterior;\n",
        "#PA - Posterior/Anterior."
      ],
      "execution_count": 0,
      "outputs": [
        {
          "output_type": "display_data",
          "data": {
            "image/png": "[encoded data removed]",
            "text/plain": [
              "<Figure size 432x288 with 1 Axes>"
            ]
          },
          "metadata": {
            "tags": [],
            "needs_background": "light"
          }
        }
      ]
    },
    {
      "cell_type": "code",
      "metadata": {
        "id": "bntH7enAOtnG",
        "colab_type": "code",
        "outputId": "a311229d-bda9-4402-ad5d-fb39aad16a24",
        "colab": {}
      },
      "source": [
        "import matplotlib.pyplot as plt\n",
        "tmp1 = df_comb.groupby(['class', 'PatientSex'])['patientId'].count()\n",
        "df1 = pd.DataFrame(data={'Exams': tmp1.values}, index=tmp1.index).reset_index()\n",
        "tmp = df1.groupby(['Exams','class', 'PatientSex']).count()\n",
        "df3 = pd.DataFrame(data=tmp.values, index=tmp.index).reset_index()\n",
        "fig, (ax) = plt.subplots(nrows=1,figsize=(6,6))\n",
        "sns.barplot(ax=ax, x = 'PatientSex', y='Exams', hue='class',data=df3)\n",
        "plt.title(\"Train set: Patient Sex and class\")\n",
        "plt.show()"
      ],
      "execution_count": 0,
      "outputs": [
        {
          "output_type": "display_data",
          "data": {
            "image/png": "[encoded data removed]",
            "text/plain": [
              "<Figure size 432x432 with 1 Axes>"
            ]
          },
          "metadata": {
            "tags": [],
            "needs_background": "light"
          }
        }
      ]
    },
    {
      "cell_type": "code",
      "metadata": {
        "id": "gln7z6OOOtnI",
        "colab_type": "code",
        "colab": {}
      },
      "source": [
        "# Converting the Training images from dicom foramt to jpeg format \n",
        "\n",
        "outdir = '/content/train_jpeg/'\n",
        "#os.mkdir(outdir)\n",
        "\n",
        "train_list = [ f for f in  os.listdir(train_path)]\n",
        "\n",
        "\n",
        "for f in train_list:   # remove \"[:10]\" to convert all images \n",
        "    ds = pydicom.read_file(train_path + f) # read dicom image\n",
        "    img = ds.pixel_array # get image array\n",
        "    cv2.imwrite(outdir + f.replace('.dcm','.jpg'),img) # write png image"
      ],
      "execution_count": 0,
      "outputs": []
    },
    {
      "cell_type": "code",
      "metadata": {
        "id": "P1vYtZY9Hb2L",
        "colab_type": "code",
        "colab": {}
      },
      "source": [
        "# Converting the Testing images from Dicom to Jpeg format \n",
        "\n",
        "outdir1 = '/content/test_jpeg/'\n",
        "#os.mkdir(outdir)\n",
        "\n",
        "test_list = [ f for f in  os.listdir(test_path)]\n",
        "\n",
        "\n",
        "for f in test_list:   # remove \"[:10]\" to convert all images \n",
        "    ds = pydicom.read_file(test_path + f) # read dicom image\n",
        "    img = ds.pixel_array # get image array\n",
        "    cv2.imwrite(outdir1 + f.replace('.dcm','.jpg'),img) # write png image"
      ],
      "execution_count": 0,
      "outputs": []
    },
    {
      "cell_type": "code",
      "metadata": {
        "id": "aAM0w_7glyMj",
        "colab_type": "code",
        "outputId": "0c47157a-78b5-429b-a2be-668f37615948",
        "colab": {
          "base_uri": "https://localhost:8080/",
          "height": 35
        }
      },
      "source": [
        "len(os.listdir(outdir1))"
      ],
      "execution_count": 0,
      "outputs": [
        {
          "output_type": "execute_result",
          "data": {
            "text/plain": [
              "3000"
            ]
          },
          "metadata": {
            "tags": []
          },
          "execution_count": 17
        }
      ]
    },
    {
      "cell_type": "code",
      "metadata": {
        "id": "51GQTBNsBCCg",
        "colab_type": "code",
        "outputId": "1b9fe241-f98e-4860-9c85-fa93cd7635d6",
        "colab": {
          "base_uri": "https://localhost:8080/",
          "height": 92
        }
      },
      "source": [
        "# Loading the training jpeg images and converting the size of 1024 , 1024 to 28 by 28 and dividing by 255 for normalization \n",
        "# Converting the list of images to array \n",
        "\n",
        "from tqdm import tqdm\n",
        "from keras.preprocessing import image\n",
        "path = '/content/'\n",
        "train_images = []\n",
        "for i in tqdm(range(df.shape[0])):\n",
        "    img = image.load_img(outdir+df['patientId'][i]+'.jpg', target_size=(28,28,1), grayscale=True)\n",
        "    img = image.img_to_array(img)\n",
        "    img = img/255\n",
        "    train_images.append(img)\n",
        "X = np.array(train_images)"
      ],
      "execution_count": 0,
      "outputs": [
        {
          "output_type": "stream",
          "text": [
            "  0%|          | 0/30227 [00:00<?, ?it/s]/usr/local/lib/python3.6/dist-packages/keras_preprocessing/image/utils.py:104: UserWarning: grayscale is deprecated. Please use color_mode = \"grayscale\"\n",
            "  warnings.warn('grayscale is deprecated. Please use '\n",
            "100%|██████████| 30227/30227 [03:47<00:00, 133.16it/s]\n"
          ],
          "name": "stderr"
        }
      ]
    },
    {
      "cell_type": "code",
      "metadata": {
        "id": "uxAL-ym9H6PL",
        "colab_type": "code",
        "outputId": "692d96ea-5d5a-490e-baa5-19875633e466",
        "colab": {
          "base_uri": "https://localhost:8080/",
          "height": 92
        }
      },
      "source": [
        "# Loading the testing jpeg images and converting the size of 1024 , 1024 to 28 by 28 and dividing by 255 for normalization \n",
        "# Converting the list of images to array \n",
        "\n",
        "test_labels = pd.read_csv('/content/stage_2_sample_submission.csv')\n",
        "test_images = []\n",
        "for i in tqdm(range(test_labels.shape[0])):\n",
        "    img = image.load_img(outdir1+test_labels['patientId'][i]+'.jpg', target_size=(28,28,1), grayscale=True)\n",
        "    img = image.img_to_array(img)\n",
        "    img = img/255\n",
        "    test_images.append(img)\n",
        "test = np.array(test_images)"
      ],
      "execution_count": 0,
      "outputs": [
        {
          "output_type": "stream",
          "text": [
            "  0%|          | 0/3000 [00:00<?, ?it/s]/usr/local/lib/python3.6/dist-packages/keras_preprocessing/image/utils.py:104: UserWarning: grayscale is deprecated. Please use color_mode = \"grayscale\"\n",
            "  warnings.warn('grayscale is deprecated. Please use '\n",
            "100%|██████████| 3000/3000 [00:22<00:00, 132.61it/s]\n"
          ],
          "name": "stderr"
        }
      ]
    },
    {
      "cell_type": "code",
      "metadata": {
        "id": "Y0nVlf54GR3l",
        "colab_type": "code",
        "colab": {}
      },
      "source": [
        "# converting the target variable into categorical \n",
        "\n",
        "y=df['Target'].values\n",
        "y = to_categorical(y)"
      ],
      "execution_count": 0,
      "outputs": []
    },
    {
      "cell_type": "code",
      "metadata": {
        "id": "nzpjbMXRGdq0",
        "colab_type": "code",
        "colab": {}
      },
      "source": [
        "# splitting the data set into training and validation \n",
        "X_train, X_valid, y_train, y_valid = train_test_split(X, y, random_state=42, test_size=0.2)"
      ],
      "execution_count": 0,
      "outputs": []
    },
    {
      "cell_type": "code",
      "metadata": {
        "id": "W-Qk8R11Otnj",
        "colab_type": "code",
        "colab": {}
      },
      "source": [
        "# defining the batch size and epochs \n",
        "batch_size = 50\n",
        "epochs = 10\n",
        "num_classes=2"
      ],
      "execution_count": 0,
      "outputs": []
    },
    {
      "cell_type": "code",
      "metadata": {
        "id": "hNLrL90_Otnl",
        "colab_type": "code",
        "colab": {}
      },
      "source": [
        "# creating the Baisc model CNN without any ealry stopping or other parameters \n",
        "\n",
        "model = Sequential()\n",
        "\n",
        "model.add(Conv2D(32,kernel_size = (3,3),activation = 'linear',input_shape = (28,28,1),padding = 'same'))\n",
        "model.add(LeakyReLU(alpha=0.1))\n",
        "model.add(MaxPooling2D((2,2),padding = 'same'))\n",
        "\n",
        "model.add(Conv2D(64,(3,3),activation = 'linear',padding = 'same'))\n",
        "model.add(LeakyReLU(alpha=0.1))\n",
        "model.add(MaxPooling2D((2,2),padding = 'same'))\n",
        "\n",
        "model.add(Conv2D(128,(3,3),activation = 'linear',padding = 'same'))\n",
        "model.add(LeakyReLU(alpha=0.1))\n",
        "model.add(MaxPooling2D((2,2),padding = 'same'))\n",
        "\n",
        "model.add(Conv2D(256,(3,3),activation = 'linear',padding = 'same'))\n",
        "model.add(LeakyReLU(alpha=0.1))\n",
        "model.add(MaxPooling2D((2,2),padding = 'same'))\n",
        "\n",
        "model.add(Flatten())\n",
        "model.add(Dense(256, activation='linear'))\n",
        "model.add(LeakyReLU(alpha=0.1))                  \n",
        "model.add(Dense(num_classes, activation='softmax'))\n"
      ],
      "execution_count": 0,
      "outputs": []
    },
    {
      "cell_type": "code",
      "metadata": {
        "id": "k2Vy6eN3Otnn",
        "colab_type": "code",
        "colab": {}
      },
      "source": [
        "# Compile model\n",
        "model.compile(loss=keras.losses.categorical_crossentropy, optimizer=keras.optimizers.Adam(),metrics=['accuracy'])\n"
      ],
      "execution_count": 0,
      "outputs": []
    },
    {
      "cell_type": "code",
      "metadata": {
        "id": "V16Q_JZxpmK4",
        "colab_type": "code",
        "outputId": "bfd44767-261d-484b-f2b5-73aadb510f40",
        "colab": {
          "base_uri": "https://localhost:8080/",
          "height": 510
        }
      },
      "source": [
        "# Model training\n",
        "train = model.fit(X_train, y_train, batch_size=batch_size,epochs=epochs,verbose=1,\n",
        "                  validation_data=(X_valid, y_valid))"
      ],
      "execution_count": 0,
      "outputs": [
        {
          "output_type": "stream",
          "text": [
            "WARNING:tensorflow:From /usr/local/lib/python3.6/dist-packages/tensorflow/python/ops/math_grad.py:1250: add_dispatch_support.<locals>.wrapper (from tensorflow.python.ops.array_ops) is deprecated and will be removed in a future version.\n",
            "Instructions for updating:\n",
            "Use tf.where in 2.0, which has the same broadcast rule as np.where\n",
            "WARNING:tensorflow:From /usr/local/lib/python3.6/dist-packages/keras/backend/tensorflow_backend.py:1033: The name tf.assign_add is deprecated. Please use tf.compat.v1.assign_add instead.\n",
            "\n",
            "Train on 24181 samples, validate on 6046 samples\n",
            "Epoch 1/10\n",
            "24181/24181 [==============================] - 50s 2ms/step - loss: 0.4797 - acc: 0.7713 - val_loss: 0.4632 - val_acc: 0.7789\n",
            "Epoch 2/10\n",
            "24181/24181 [==============================] - 50s 2ms/step - loss: 0.4470 - acc: 0.7901 - val_loss: 0.4446 - val_acc: 0.7904\n",
            "Epoch 3/10\n",
            "24181/24181 [==============================] - 49s 2ms/step - loss: 0.4362 - acc: 0.7960 - val_loss: 0.4369 - val_acc: 0.7934\n",
            "Epoch 4/10\n",
            "24181/24181 [==============================] - 51s 2ms/step - loss: 0.4246 - acc: 0.8012 - val_loss: 0.4307 - val_acc: 0.8017\n",
            "Epoch 5/10\n",
            "24181/24181 [==============================] - 50s 2ms/step - loss: 0.4174 - acc: 0.8031 - val_loss: 0.4318 - val_acc: 0.7959\n",
            "Epoch 6/10\n",
            "24181/24181 [==============================] - 50s 2ms/step - loss: 0.4028 - acc: 0.8114 - val_loss: 0.4285 - val_acc: 0.8004\n",
            "Epoch 7/10\n",
            "24181/24181 [==============================] - 49s 2ms/step - loss: 0.3927 - acc: 0.8154 - val_loss: 0.4259 - val_acc: 0.7995\n",
            "Epoch 8/10\n",
            "24181/24181 [==============================] - 51s 2ms/step - loss: 0.3764 - acc: 0.8225 - val_loss: 0.4413 - val_acc: 0.8096\n",
            "Epoch 9/10\n",
            "24181/24181 [==============================] - 51s 2ms/step - loss: 0.3576 - acc: 0.8344 - val_loss: 0.4381 - val_acc: 0.8065\n",
            "Epoch 10/10\n",
            "24181/24181 [==============================] - 51s 2ms/step - loss: 0.3336 - acc: 0.8477 - val_loss: 0.4433 - val_acc: 0.8043\n"
          ],
          "name": "stdout"
        }
      ]
    },
    {
      "cell_type": "code",
      "metadata": {
        "id": "zMSuLwPP4deW",
        "colab_type": "code",
        "outputId": "db5500f2-0c8b-4c63-c137-6138fd1119bc",
        "colab": {
          "base_uri": "https://localhost:8080/",
          "height": 745
        }
      },
      "source": [
        "model.summary()"
      ],
      "execution_count": 0,
      "outputs": [
        {
          "output_type": "stream",
          "text": [
            "Model: \"sequential_2\"\n",
            "_________________________________________________________________\n",
            "Layer (type)                 Output Shape              Param #   \n",
            "=================================================================\n",
            "conv2d_5 (Conv2D)            (None, 28, 28, 32)        320       \n",
            "_________________________________________________________________\n",
            "leaky_re_lu_6 (LeakyReLU)    (None, 28, 28, 32)        0         \n",
            "_________________________________________________________________\n",
            "max_pooling2d_5 (MaxPooling2 (None, 14, 14, 32)        0         \n",
            "_________________________________________________________________\n",
            "conv2d_6 (Conv2D)            (None, 14, 14, 64)        18496     \n",
            "_________________________________________________________________\n",
            "leaky_re_lu_7 (LeakyReLU)    (None, 14, 14, 64)        0         \n",
            "_________________________________________________________________\n",
            "max_pooling2d_6 (MaxPooling2 (None, 7, 7, 64)          0         \n",
            "_________________________________________________________________\n",
            "conv2d_7 (Conv2D)            (None, 7, 7, 128)         73856     \n",
            "_________________________________________________________________\n",
            "leaky_re_lu_8 (LeakyReLU)    (None, 7, 7, 128)         0         \n",
            "_________________________________________________________________\n",
            "max_pooling2d_7 (MaxPooling2 (None, 4, 4, 128)         0         \n",
            "_________________________________________________________________\n",
            "conv2d_8 (Conv2D)            (None, 4, 4, 256)         295168    \n",
            "_________________________________________________________________\n",
            "leaky_re_lu_9 (LeakyReLU)    (None, 4, 4, 256)         0         \n",
            "_________________________________________________________________\n",
            "max_pooling2d_8 (MaxPooling2 (None, 2, 2, 256)         0         \n",
            "_________________________________________________________________\n",
            "flatten_2 (Flatten)          (None, 1024)              0         \n",
            "_________________________________________________________________\n",
            "dense_3 (Dense)              (None, 256)               262400    \n",
            "_________________________________________________________________\n",
            "leaky_re_lu_10 (LeakyReLU)   (None, 256)               0         \n",
            "_________________________________________________________________\n",
            "dense_4 (Dense)              (None, 2)                 514       \n",
            "=================================================================\n",
            "Total params: 650,754\n",
            "Trainable params: 650,754\n",
            "Non-trainable params: 0\n",
            "_________________________________________________________________\n"
          ],
          "name": "stdout"
        }
      ]
    },
    {
      "cell_type": "code",
      "metadata": {
        "id": "Cb8iv0Ejwgyl",
        "colab_type": "code",
        "colab": {}
      },
      "source": [
        "#Defining hyper parameters with model 2\n",
        "\n",
        "batch_size = 64\n",
        "epochs = 15\n",
        "num_classes = 2\n",
        "\n",
        "model_h1 = Sequential()\n",
        "model_h1.add(Conv2D(32, kernel_size=(3, 3),activation='linear',padding='same',input_shape=(28,28,1)))\n",
        "model_h1.add(LeakyReLU(alpha=0.1))\n",
        "model_h1.add(MaxPooling2D((2, 2),padding='same'))\n",
        "model_h1.add(Dropout(0.25))\n",
        "model_h1.add(Conv2D(64, (3, 3), activation='linear',padding='same'))\n",
        "model_h1.add(LeakyReLU(alpha=0.1))\n",
        "model_h1.add(MaxPooling2D(pool_size=(2, 2),padding='same'))\n",
        "model_h1.add(Dropout(0.25))\n",
        "model_h1.add(Conv2D(128, (3, 3), activation='linear',padding='same'))\n",
        "model_h1.add(LeakyReLU(alpha=0.1))                  \n",
        "model_h1.add(MaxPooling2D(pool_size=(2, 2),padding='same'))\n",
        "model_h1.add(Dropout(0.4))\n",
        "model_h1.add(Flatten())\n",
        "model_h1.add(Dense(128, activation='linear'))\n",
        "model_h1.add(LeakyReLU(alpha=0.1))           \n",
        "model_h1.add(Dropout(0.3))\n",
        "model_h1.add(Dense(num_classes, activation='softmax'))"
      ],
      "execution_count": 0,
      "outputs": []
    },
    {
      "cell_type": "code",
      "metadata": {
        "id": "b8hE_bjFx-EQ",
        "colab_type": "code",
        "colab": {}
      },
      "source": [
        "\n",
        "# compiling the model\n",
        "model_h1.compile(loss=keras.losses.categorical_crossentropy, optimizer=keras.optimizers.Adam(),metrics=['accuracy'])"
      ],
      "execution_count": 0,
      "outputs": []
    },
    {
      "cell_type": "code",
      "metadata": {
        "id": "_N9EcYhfyFM2",
        "colab_type": "code",
        "outputId": "e06b6e93-7fff-4b0f-aef3-3a72427e0615",
        "colab": {
          "base_uri": "https://localhost:8080/",
          "height": 581
        }
      },
      "source": [
        "# fitting the model\n",
        "model_h1_fit = model_h1.fit(X_train, y_train, batch_size=batch_size,epochs=epochs,verbose=1,validation_data=(X_valid, y_valid))"
      ],
      "execution_count": 0,
      "outputs": [
        {
          "output_type": "stream",
          "text": [
            "Train on 24181 samples, validate on 6046 samples\n",
            "Epoch 1/15\n",
            "24181/24181 [==============================] - 33s 1ms/step - loss: 0.5016 - acc: 0.7545 - val_loss: 0.4748 - val_acc: 0.7729\n",
            "Epoch 2/15\n",
            "24181/24181 [==============================] - 33s 1ms/step - loss: 0.4648 - acc: 0.7822 - val_loss: 0.4575 - val_acc: 0.7823\n",
            "Epoch 3/15\n",
            "24181/24181 [==============================] - 32s 1ms/step - loss: 0.4569 - acc: 0.7870 - val_loss: 0.4482 - val_acc: 0.7856\n",
            "Epoch 4/15\n",
            "24181/24181 [==============================] - 32s 1ms/step - loss: 0.4475 - acc: 0.7912 - val_loss: 0.4805 - val_acc: 0.7741\n",
            "Epoch 5/15\n",
            "24181/24181 [==============================] - 33s 1ms/step - loss: 0.4433 - acc: 0.7939 - val_loss: 0.4422 - val_acc: 0.7885\n",
            "Epoch 6/15\n",
            "24181/24181 [==============================] - 32s 1ms/step - loss: 0.4397 - acc: 0.7943 - val_loss: 0.4345 - val_acc: 0.7956\n",
            "Epoch 7/15\n",
            "24181/24181 [==============================] - 32s 1ms/step - loss: 0.4324 - acc: 0.7998 - val_loss: 0.4295 - val_acc: 0.7972\n",
            "Epoch 8/15\n",
            "24181/24181 [==============================] - 32s 1ms/step - loss: 0.4351 - acc: 0.7954 - val_loss: 0.4333 - val_acc: 0.7985\n",
            "Epoch 9/15\n",
            "24181/24181 [==============================] - 32s 1ms/step - loss: 0.4283 - acc: 0.7979 - val_loss: 0.4283 - val_acc: 0.7962\n",
            "Epoch 10/15\n",
            "24181/24181 [==============================] - 32s 1ms/step - loss: 0.4252 - acc: 0.8004 - val_loss: 0.4288 - val_acc: 0.7990\n",
            "Epoch 11/15\n",
            "24181/24181 [==============================] - 32s 1ms/step - loss: 0.4221 - acc: 0.8019 - val_loss: 0.4327 - val_acc: 0.7962\n",
            "Epoch 12/15\n",
            "24181/24181 [==============================] - 32s 1ms/step - loss: 0.4203 - acc: 0.8026 - val_loss: 0.4347 - val_acc: 0.7982\n",
            "Epoch 13/15\n",
            "24181/24181 [==============================] - 31s 1ms/step - loss: 0.4169 - acc: 0.8077 - val_loss: 0.4316 - val_acc: 0.7971\n",
            "Epoch 14/15\n",
            "24181/24181 [==============================] - 31s 1ms/step - loss: 0.4180 - acc: 0.8049 - val_loss: 0.4279 - val_acc: 0.7977\n",
            "Epoch 15/15\n",
            "24181/24181 [==============================] - 32s 1ms/step - loss: 0.4117 - acc: 0.8056 - val_loss: 0.4187 - val_acc: 0.8057\n"
          ],
          "name": "stdout"
        }
      ]
    },
    {
      "cell_type": "code",
      "metadata": {
        "id": "wrwQk4Opyb7o",
        "colab_type": "code",
        "outputId": "eaabf82d-4710-4bad-ae4b-8585b2e5dada",
        "colab": {
          "base_uri": "https://localhost:8080/",
          "height": 35
        }
      },
      "source": [
        "# serialize model to JSON and save the weights\n",
        "\n",
        "model_json = model_h1.to_json()\n",
        "with open(\"model_h1.json\", \"w\") as json_file:\n",
        "    json_file.write(model_json)\n",
        "# serialize weights to HDF5\n",
        "model_h1.save_weights(\"model_h1.h5\") #.pckl\n",
        "print(\"Saved model to disk\")"
      ],
      "execution_count": 0,
      "outputs": [
        {
          "output_type": "stream",
          "text": [
            "Saved model to disk\n"
          ],
          "name": "stdout"
        }
      ]
    },
    {
      "cell_type": "code",
      "metadata": {
        "id": "5jvf0sC3yqTu",
        "colab_type": "code",
        "outputId": "7920c92d-1e1f-4075-d101-694351759c4f",
        "colab": {
          "base_uri": "https://localhost:8080/",
          "height": 35
        }
      },
      "source": [
        "# load json and create model\n",
        "json_file = open('/content/model_h1.json', 'r')\n",
        "loaded_model_json = json_file.read()\n",
        "json_file.close()\n",
        "loaded_model = model_from_json(loaded_model_json)\n",
        "\n",
        "# loading weights \n",
        "loaded_model.load_weights(\"/content/model_h1.h5\")\n",
        "print(\"Loaded model from disk\")"
      ],
      "execution_count": 0,
      "outputs": [
        {
          "output_type": "stream",
          "text": [
            "Loaded model from disk\n"
          ],
          "name": "stdout"
        }
      ]
    },
    {
      "cell_type": "code",
      "metadata": {
        "id": "xQkc6yp9Dc4q",
        "colab_type": "code",
        "colab": {}
      },
      "source": [
        "# Prediciton on Test set\n",
        "prediction = model_h1.predict_classes(test)"
      ],
      "execution_count": 0,
      "outputs": []
    },
    {
      "cell_type": "code",
      "metadata": {
        "id": "r0g-dlyoKQAs",
        "colab_type": "code",
        "colab": {}
      },
      "source": [
        "# Downloading the CSV file for the model Prediciton \n",
        "test_labels['label'] = prediction\n",
        "test_labels.to_csv('prediction.csv',header=True,index=False)"
      ],
      "execution_count": 0,
      "outputs": []
    },
    {
      "cell_type": "code",
      "metadata": {
        "id": "pVmS0HkI3TE3",
        "colab_type": "code",
        "colab": {}
      },
      "source": [
        "# Creating a dictionary with Bounding box and patient id information \n",
        "\n",
        "pneumonia_bbox = {}\n",
        "\n",
        "with open('/content/stage_2_train_labels.csv', mode='r') as infile:\n",
        "\n",
        "    # open reader\n",
        "    reader = csv.reader(infile)\n",
        "    # skip header\n",
        "    next(reader, None)\n",
        " \n",
        "    for row in reader:\n",
        "      fname = row[0]\n",
        "      bbox = row[1:5]\n",
        "      pneumonia = row[5]\n",
        "\n",
        "      if pneumonia == '1':\n",
        "\n",
        "        bbox = [int(float(i)) for i in bbox]\n",
        "\n",
        "        if fname in pneumonia_bbox:\n",
        "\n",
        "          pneumonia_bbox[fname].append(bbox)\n",
        "\n",
        "        else:\n",
        "          \n",
        "          pneumonia_bbox[fname] = [bbox]"
      ],
      "execution_count": 0,
      "outputs": []
    },
    {
      "cell_type": "code",
      "metadata": {
        "id": "V1cBTN8APspF",
        "colab_type": "code",
        "colab": {}
      },
      "source": [
        "#splitting the training data to training and validation \n",
        "\n",
        "import os\n",
        "import random\n",
        "train_path = '/content/stage_2_train_images'\n",
        "filenames = os.listdir(train_path)\n",
        "random.shuffle(filenames)\n",
        "size = 2000\n",
        "val_size=500\n",
        "train_images = filenames[:size]\n",
        "val_images = filenames[size:val_size]"
      ],
      "execution_count": 0,
      "outputs": []
    },
    {
      "cell_type": "code",
      "metadata": {
        "id": "RjMOErARQawH",
        "colab_type": "code",
        "colab": {}
      },
      "source": [
        "# Defining a class to generate the data for Keras model by reading dicom data \n",
        "\n",
        "class data_generator(keras.utils.Sequence):\n",
        "\n",
        "  def __init__(self,path,filenames,pneumonia_bbox=None,batch_size=32,image_size=320,shuffle=True,augment=False,predict=False):\n",
        "\n",
        "    self.path = path\n",
        "    self.filenames = filenames\n",
        "    self.pneumonia_bbox = pneumonia_bbox\n",
        "    self.batch_size=batch_size\n",
        "    self.image_size=image_size\n",
        "    self.shuffle = shuffle\n",
        "    self.augment = augment\n",
        "    self.predict = predict\n",
        "    self.on_epoch_end()\n",
        "  \n",
        "  def __load__(self,filename):\n",
        "    img = pydicom.dcmread(os.path.join(self.path,filename)).pixel_array\n",
        "    msk = np.zeros(img.shape)\n",
        "    filename = filename.split('.')[0]\n",
        "\n",
        "    if filename in pneumonia_bbox:\n",
        "      for bbox in pneumonia_bbox[filename]:\n",
        "        \n",
        "        x, y, w, h = bbox\n",
        "        # adding ones as the mask value where bbox is present for image\n",
        "        msk[y:y+h,x:x+h] = 1\n",
        "\n",
        "      # if augment then horizontal flit half the time\n",
        "    if self.augment and random.random()>0.5:\n",
        "\n",
        "      img = np.fliplr(img)\n",
        "      msk = np.fliplr(msk)\n",
        "\n",
        "      # resize both image and mask\n",
        "    img = resize(img,(self.image_size,self.image_size),mode='reflect')\n",
        "    msk = resize(msk,(self.image_size,self.image_size),mode = 'reflect') > 0.5\n",
        "      # adding the channel dimension\n",
        "    img = np.expand_dims(img,-1)\n",
        "    msk = np.expand_dims(msk,-1)\n",
        "    return img,msk\n",
        "\n",
        "  def __loadpredict__(self,filename):\n",
        "    img = pydicom.dcmread(os.path.join(self.path,filename)).pixel_array\n",
        "    img = resize(img,(self.image_size,self.image_size),mode = 'reflect')\n",
        "    img = np.expand_dims(img,-1)\n",
        "    return img\n",
        "\n",
        "  def __getitem__(self,index):\n",
        "    # select batch of images\n",
        "    filenames = self.filenames[index * self.batch_size:(index+1) * self.batch_size]\n",
        "    # return images and filenames for predict mode\n",
        "    if self.predict:\n",
        "      imgs = [self.__loadpredict__(filename) for filename in filenames]\n",
        "      imgs = np.array(imgs)\n",
        "      return imgs,filenames\n",
        "      # training mode , return images and masks \n",
        "    else:\n",
        "      items = [self.__load__(filename) for filename in filenames]\n",
        "      \n",
        "      #unzip images and masks \n",
        "      imgs,msks = zip(*items)\n",
        "      imgs = np.array(imgs)\n",
        "      msks = np.array(msks)\n",
        "      return imgs,msks\n",
        "\n",
        "  def on_epoch_end(self):\n",
        "    if self.shuffle:\n",
        "      random.shuffle(self.filenames)\n",
        "\n",
        "  def __len__(self):\n",
        "    if self.predict:\n",
        "      return int(np.ceil(len(self.filenames) / self.batch_size))  \n",
        "    else:\n",
        "      return int(len(self.filenames) / self.batch_size)"
      ],
      "execution_count": 0,
      "outputs": []
    },
    {
      "cell_type": "code",
      "metadata": {
        "id": "th2MjG17aDTF",
        "colab_type": "code",
        "colab": {}
      },
      "source": [
        "batch_size = 16\n",
        "image_size = 320"
      ],
      "execution_count": 0,
      "outputs": []
    },
    {
      "cell_type": "code",
      "metadata": {
        "id": "C1fuig5ob-V2",
        "colab_type": "code",
        "colab": {}
      },
      "source": [
        "# Performong Downsampling , Residual Block and up sampling \n",
        "\n",
        "def downsample(channels, inputs):\n",
        "    x = keras.layers.BatchNormalization(momentum=0.9)(inputs)\n",
        "    x = keras.layers.LeakyReLU(0)(x)\n",
        "    x = keras.layers.Conv2D(channels, 1, padding='same', use_bias=False)(x)\n",
        "    x = keras.layers.MaxPool2D(2)(x)\n",
        "    return x\n",
        "\n",
        "def resblock(channels, inputs):\n",
        "    x = keras.layers.BatchNormalization(momentum=0.9)(inputs)\n",
        "    x = keras.layers.LeakyReLU(0)(x)\n",
        "    x = keras.layers.Conv2D(channels, 3, padding='same', use_bias=False)(x)\n",
        "    x = keras.layers.BatchNormalization(momentum=0.9)(x)\n",
        "    x = keras.layers.LeakyReLU(0)(x)\n",
        "    x = keras.layers.Conv2D(channels, 3, padding='same', use_bias=False)(x)\n",
        "    return keras.layers.add([x, inputs])\n",
        "\n",
        "def network(input_size, channels, n_blocks=2, depth=4):\n",
        "    # input\n",
        "    inputs = keras.Input(shape=(input_size, input_size, 1))\n",
        "    x = keras.layers.Conv2D(channels, 3, padding='same', use_bias=False)(inputs)\n",
        "    # residual blocks\n",
        "    for d in range(depth):\n",
        "        channels = channels * 2\n",
        "        x = downsample(channels, x)\n",
        "        for b in range(n_blocks):\n",
        "            x = resblock(channels, x)\n",
        "    # output\n",
        "    x = keras.layers.BatchNormalization(momentum=0.9)(x)\n",
        "    x = keras.layers.LeakyReLU(0)(x)\n",
        "    x = keras.layers.Conv2D(256, 1, activation=None)(x)\n",
        "    x = keras.layers.BatchNormalization(momentum=0.9)(x)\n",
        "    x = keras.layers.LeakyReLU(0)(x)\n",
        "    x = keras.layers.Conv2DTranspose(128, (8,8),strides=(4,4), padding=\"same\", activation=None)(x)\n",
        "    x = keras.layers.BatchNormalization(momentum=0.9)(x)\n",
        "    x = keras.layers.LeakyReLU(0)(x)\n",
        "    x = keras.layers.Conv2D(1, 1, activation='sigmoid')(x)\n",
        "    outputs = keras.layers.UpSampling2D(2**(depth-2))(x)\n",
        "    model = keras.Model(inputs=inputs, outputs=outputs)\n",
        "    return model"
      ],
      "execution_count": 0,
      "outputs": []
    },
    {
      "cell_type": "code",
      "metadata": {
        "id": "9h6RoIUHfQ5V",
        "colab_type": "code",
        "outputId": "f330a636-b6cb-4d46-e3b4-e9f97eca325e",
        "colab": {
          "base_uri": "https://localhost:8080/",
          "height": 1000
        }
      },
      "source": [
        "# define iou or jaccard loss function\n",
        "\n",
        "def iou_loss(y_true,y_pred):\n",
        "  y_true = tf.reshape(y_true,[-1])\n",
        "  y_pred = tf.reshape(y_pred,[-1])\n",
        "\n",
        "  iou = tf.reduce_sum(y_true * y_pred)\n",
        "  score = (iou + 1.) / (tf.reduce_sum(y_true) + tf.reduce_sum(y_pred) - iou + 1.)\n",
        "  return 1-score\n",
        "\n",
        "# combine cross entropy and iou loss\n",
        "def iou_bce_loss(y_true,y_pred):\n",
        "  return 0.5 * keras.losses.binary_crossentropy(y_true,y_pred) + 0.5 * iou_loss(y_true,y_pred)\n",
        "\n",
        "def mean_iou(y_true,y_pred):\n",
        "  y_pred = tf.round(y_pred)\n",
        "  intersect = tf.reduce_sum(y_true * y_pred,axis = [1,2,3])\n",
        "  union = tf.reduce_sum(y_true,axis=[1,2,3]) + tf.reduce_sum(y_pred,axis = [1,2,3])\n",
        "  smooth = tf.ones(tf.shape(intersect))\n",
        "  return tf.reduce_mean((intersect + smooth) / (union-intersect + smooth))\n",
        "\n",
        "model = network(input_size=image_size,channels=32,n_blocks=2,depth=4)\n",
        "model.compile(optimizer=keras.optimizers.Adam(),loss = iou_bce_loss,metrics=['accuracy',mean_iou])\n",
        "\n",
        "# cosine learning rate annealing\n",
        "\n",
        "def cosine_annealing(x):\n",
        "  lr = 0.001\n",
        "  epochs = 20\n",
        "  return lr*(np.cos(np.pi*x/epochs)+1.)/2\n",
        "\n",
        "learning_rate = tf.keras.callbacks.LearningRateScheduler(cosine_annealing)\n",
        "\n",
        "train_gen = data_generator(train_path,train_images,pneumonia_bbox,batch_size=batch_size,image_size=image_size,shuffle=True,\n",
        "                           augment=True,predict=False)\n",
        "valid_gen = data_generator(train_path,val_images,pneumonia_bbox,batch_size=batch_size,image_size=image_size,shuffle=True,\n",
        "                           augment = True,predict = False)\n",
        "\n",
        "print(model.summary())"
      ],
      "execution_count": 0,
      "outputs": [
        {
          "output_type": "stream",
          "text": [
            "Model: \"model_2\"\n",
            "__________________________________________________________________________________________________\n",
            "Layer (type)                    Output Shape         Param #     Connected to                     \n",
            "==================================================================================================\n",
            "input_2 (InputLayer)            (None, 320, 320, 1)  0                                            \n",
            "__________________________________________________________________________________________________\n",
            "conv2d_38 (Conv2D)              (None, 320, 320, 32) 288         input_2[0][0]                    \n",
            "__________________________________________________________________________________________________\n",
            "batch_normalization_24 (BatchNo (None, 320, 320, 32) 128         conv2d_38[0][0]                  \n",
            "__________________________________________________________________________________________________\n",
            "leaky_re_lu_42 (LeakyReLU)      (None, 320, 320, 32) 0           batch_normalization_24[0][0]     \n",
            "__________________________________________________________________________________________________\n",
            "conv2d_39 (Conv2D)              (None, 320, 320, 64) 2048        leaky_re_lu_42[0][0]             \n",
            "__________________________________________________________________________________________________\n",
            "max_pooling2d_19 (MaxPooling2D) (None, 160, 160, 64) 0           conv2d_39[0][0]                  \n",
            "__________________________________________________________________________________________________\n",
            "batch_normalization_25 (BatchNo (None, 160, 160, 64) 256         max_pooling2d_19[0][0]           \n",
            "__________________________________________________________________________________________________\n",
            "leaky_re_lu_43 (LeakyReLU)      (None, 160, 160, 64) 0           batch_normalization_25[0][0]     \n",
            "__________________________________________________________________________________________________\n",
            "conv2d_40 (Conv2D)              (None, 160, 160, 64) 36864       leaky_re_lu_43[0][0]             \n",
            "__________________________________________________________________________________________________\n",
            "batch_normalization_26 (BatchNo (None, 160, 160, 64) 256         conv2d_40[0][0]                  \n",
            "__________________________________________________________________________________________________\n",
            "leaky_re_lu_44 (LeakyReLU)      (None, 160, 160, 64) 0           batch_normalization_26[0][0]     \n",
            "__________________________________________________________________________________________________\n",
            "conv2d_41 (Conv2D)              (None, 160, 160, 64) 36864       leaky_re_lu_44[0][0]             \n",
            "__________________________________________________________________________________________________\n",
            "add_9 (Add)                     (None, 160, 160, 64) 0           conv2d_41[0][0]                  \n",
            "                                                                 max_pooling2d_19[0][0]           \n",
            "__________________________________________________________________________________________________\n",
            "batch_normalization_27 (BatchNo (None, 160, 160, 64) 256         add_9[0][0]                      \n",
            "__________________________________________________________________________________________________\n",
            "leaky_re_lu_45 (LeakyReLU)      (None, 160, 160, 64) 0           batch_normalization_27[0][0]     \n",
            "__________________________________________________________________________________________________\n",
            "conv2d_42 (Conv2D)              (None, 160, 160, 64) 36864       leaky_re_lu_45[0][0]             \n",
            "__________________________________________________________________________________________________\n",
            "batch_normalization_28 (BatchNo (None, 160, 160, 64) 256         conv2d_42[0][0]                  \n",
            "__________________________________________________________________________________________________\n",
            "leaky_re_lu_46 (LeakyReLU)      (None, 160, 160, 64) 0           batch_normalization_28[0][0]     \n",
            "__________________________________________________________________________________________________\n",
            "conv2d_43 (Conv2D)              (None, 160, 160, 64) 36864       leaky_re_lu_46[0][0]             \n",
            "__________________________________________________________________________________________________\n",
            "add_10 (Add)                    (None, 160, 160, 64) 0           conv2d_43[0][0]                  \n",
            "                                                                 add_9[0][0]                      \n",
            "__________________________________________________________________________________________________\n",
            "batch_normalization_29 (BatchNo (None, 160, 160, 64) 256         add_10[0][0]                     \n",
            "__________________________________________________________________________________________________\n",
            "leaky_re_lu_47 (LeakyReLU)      (None, 160, 160, 64) 0           batch_normalization_29[0][0]     \n",
            "__________________________________________________________________________________________________\n",
            "conv2d_44 (Conv2D)              (None, 160, 160, 128 8192        leaky_re_lu_47[0][0]             \n",
            "__________________________________________________________________________________________________\n",
            "max_pooling2d_20 (MaxPooling2D) (None, 80, 80, 128)  0           conv2d_44[0][0]                  \n",
            "__________________________________________________________________________________________________\n",
            "batch_normalization_30 (BatchNo (None, 80, 80, 128)  512         max_pooling2d_20[0][0]           \n",
            "__________________________________________________________________________________________________\n",
            "leaky_re_lu_48 (LeakyReLU)      (None, 80, 80, 128)  0           batch_normalization_30[0][0]     \n",
            "__________________________________________________________________________________________________\n",
            "conv2d_45 (Conv2D)              (None, 80, 80, 128)  147456      leaky_re_lu_48[0][0]             \n",
            "__________________________________________________________________________________________________\n",
            "batch_normalization_31 (BatchNo (None, 80, 80, 128)  512         conv2d_45[0][0]                  \n",
            "__________________________________________________________________________________________________\n",
            "leaky_re_lu_49 (LeakyReLU)      (None, 80, 80, 128)  0           batch_normalization_31[0][0]     \n",
            "__________________________________________________________________________________________________\n",
            "conv2d_46 (Conv2D)              (None, 80, 80, 128)  147456      leaky_re_lu_49[0][0]             \n",
            "__________________________________________________________________________________________________\n",
            "add_11 (Add)                    (None, 80, 80, 128)  0           conv2d_46[0][0]                  \n",
            "                                                                 max_pooling2d_20[0][0]           \n",
            "__________________________________________________________________________________________________\n",
            "batch_normalization_32 (BatchNo (None, 80, 80, 128)  512         add_11[0][0]                     \n",
            "__________________________________________________________________________________________________\n",
            "leaky_re_lu_50 (LeakyReLU)      (None, 80, 80, 128)  0           batch_normalization_32[0][0]     \n",
            "__________________________________________________________________________________________________\n",
            "conv2d_47 (Conv2D)              (None, 80, 80, 128)  147456      leaky_re_lu_50[0][0]             \n",
            "__________________________________________________________________________________________________\n",
            "batch_normalization_33 (BatchNo (None, 80, 80, 128)  512         conv2d_47[0][0]                  \n",
            "__________________________________________________________________________________________________\n",
            "leaky_re_lu_51 (LeakyReLU)      (None, 80, 80, 128)  0           batch_normalization_33[0][0]     \n",
            "__________________________________________________________________________________________________\n",
            "conv2d_48 (Conv2D)              (None, 80, 80, 128)  147456      leaky_re_lu_51[0][0]             \n",
            "__________________________________________________________________________________________________\n",
            "add_12 (Add)                    (None, 80, 80, 128)  0           conv2d_48[0][0]                  \n",
            "                                                                 add_11[0][0]                     \n",
            "__________________________________________________________________________________________________\n",
            "batch_normalization_34 (BatchNo (None, 80, 80, 128)  512         add_12[0][0]                     \n",
            "__________________________________________________________________________________________________\n",
            "leaky_re_lu_52 (LeakyReLU)      (None, 80, 80, 128)  0           batch_normalization_34[0][0]     \n",
            "__________________________________________________________________________________________________\n",
            "conv2d_49 (Conv2D)              (None, 80, 80, 256)  32768       leaky_re_lu_52[0][0]             \n",
            "__________________________________________________________________________________________________\n",
            "max_pooling2d_21 (MaxPooling2D) (None, 40, 40, 256)  0           conv2d_49[0][0]                  \n",
            "__________________________________________________________________________________________________\n",
            "batch_normalization_35 (BatchNo (None, 40, 40, 256)  1024        max_pooling2d_21[0][0]           \n",
            "__________________________________________________________________________________________________\n",
            "leaky_re_lu_53 (LeakyReLU)      (None, 40, 40, 256)  0           batch_normalization_35[0][0]     \n",
            "__________________________________________________________________________________________________\n",
            "conv2d_50 (Conv2D)              (None, 40, 40, 256)  589824      leaky_re_lu_53[0][0]             \n",
            "__________________________________________________________________________________________________\n",
            "batch_normalization_36 (BatchNo (None, 40, 40, 256)  1024        conv2d_50[0][0]                  \n",
            "__________________________________________________________________________________________________\n",
            "leaky_re_lu_54 (LeakyReLU)      (None, 40, 40, 256)  0           batch_normalization_36[0][0]     \n",
            "__________________________________________________________________________________________________\n",
            "conv2d_51 (Conv2D)              (None, 40, 40, 256)  589824      leaky_re_lu_54[0][0]             \n",
            "__________________________________________________________________________________________________\n",
            "add_13 (Add)                    (None, 40, 40, 256)  0           conv2d_51[0][0]                  \n",
            "                                                                 max_pooling2d_21[0][0]           \n",
            "__________________________________________________________________________________________________\n",
            "batch_normalization_37 (BatchNo (None, 40, 40, 256)  1024        add_13[0][0]                     \n",
            "__________________________________________________________________________________________________\n",
            "leaky_re_lu_55 (LeakyReLU)      (None, 40, 40, 256)  0           batch_normalization_37[0][0]     \n",
            "__________________________________________________________________________________________________\n",
            "conv2d_52 (Conv2D)              (None, 40, 40, 256)  589824      leaky_re_lu_55[0][0]             \n",
            "__________________________________________________________________________________________________\n",
            "batch_normalization_38 (BatchNo (None, 40, 40, 256)  1024        conv2d_52[0][0]                  \n",
            "__________________________________________________________________________________________________\n",
            "leaky_re_lu_56 (LeakyReLU)      (None, 40, 40, 256)  0           batch_normalization_38[0][0]     \n",
            "__________________________________________________________________________________________________\n",
            "conv2d_53 (Conv2D)              (None, 40, 40, 256)  589824      leaky_re_lu_56[0][0]             \n",
            "__________________________________________________________________________________________________\n",
            "add_14 (Add)                    (None, 40, 40, 256)  0           conv2d_53[0][0]                  \n",
            "                                                                 add_13[0][0]                     \n",
            "__________________________________________________________________________________________________\n",
            "batch_normalization_39 (BatchNo (None, 40, 40, 256)  1024        add_14[0][0]                     \n",
            "__________________________________________________________________________________________________\n",
            "leaky_re_lu_57 (LeakyReLU)      (None, 40, 40, 256)  0           batch_normalization_39[0][0]     \n",
            "__________________________________________________________________________________________________\n",
            "conv2d_54 (Conv2D)              (None, 40, 40, 512)  131072      leaky_re_lu_57[0][0]             \n",
            "__________________________________________________________________________________________________\n",
            "max_pooling2d_22 (MaxPooling2D) (None, 20, 20, 512)  0           conv2d_54[0][0]                  \n",
            "__________________________________________________________________________________________________\n",
            "batch_normalization_40 (BatchNo (None, 20, 20, 512)  2048        max_pooling2d_22[0][0]           \n",
            "__________________________________________________________________________________________________\n",
            "leaky_re_lu_58 (LeakyReLU)      (None, 20, 20, 512)  0           batch_normalization_40[0][0]     \n",
            "__________________________________________________________________________________________________\n",
            "conv2d_55 (Conv2D)              (None, 20, 20, 512)  2359296     leaky_re_lu_58[0][0]             \n",
            "__________________________________________________________________________________________________\n",
            "batch_normalization_41 (BatchNo (None, 20, 20, 512)  2048        conv2d_55[0][0]                  \n",
            "__________________________________________________________________________________________________\n",
            "leaky_re_lu_59 (LeakyReLU)      (None, 20, 20, 512)  0           batch_normalization_41[0][0]     \n",
            "__________________________________________________________________________________________________\n",
            "conv2d_56 (Conv2D)              (None, 20, 20, 512)  2359296     leaky_re_lu_59[0][0]             \n",
            "__________________________________________________________________________________________________\n",
            "add_15 (Add)                    (None, 20, 20, 512)  0           conv2d_56[0][0]                  \n",
            "                                                                 max_pooling2d_22[0][0]           \n",
            "__________________________________________________________________________________________________\n",
            "batch_normalization_42 (BatchNo (None, 20, 20, 512)  2048        add_15[0][0]                     \n",
            "__________________________________________________________________________________________________\n",
            "leaky_re_lu_60 (LeakyReLU)      (None, 20, 20, 512)  0           batch_normalization_42[0][0]     \n",
            "__________________________________________________________________________________________________\n",
            "conv2d_57 (Conv2D)              (None, 20, 20, 512)  2359296     leaky_re_lu_60[0][0]             \n",
            "__________________________________________________________________________________________________\n",
            "batch_normalization_43 (BatchNo (None, 20, 20, 512)  2048        conv2d_57[0][0]                  \n",
            "__________________________________________________________________________________________________\n",
            "leaky_re_lu_61 (LeakyReLU)      (None, 20, 20, 512)  0           batch_normalization_43[0][0]     \n",
            "__________________________________________________________________________________________________\n",
            "conv2d_58 (Conv2D)              (None, 20, 20, 512)  2359296     leaky_re_lu_61[0][0]             \n",
            "__________________________________________________________________________________________________\n",
            "add_16 (Add)                    (None, 20, 20, 512)  0           conv2d_58[0][0]                  \n",
            "                                                                 add_15[0][0]                     \n",
            "__________________________________________________________________________________________________\n",
            "batch_normalization_44 (BatchNo (None, 20, 20, 512)  2048        add_16[0][0]                     \n",
            "__________________________________________________________________________________________________\n",
            "leaky_re_lu_62 (LeakyReLU)      (None, 20, 20, 512)  0           batch_normalization_44[0][0]     \n",
            "__________________________________________________________________________________________________\n",
            "conv2d_59 (Conv2D)              (None, 20, 20, 256)  131328      leaky_re_lu_62[0][0]             \n",
            "__________________________________________________________________________________________________\n",
            "batch_normalization_45 (BatchNo (None, 20, 20, 256)  1024        conv2d_59[0][0]                  \n",
            "__________________________________________________________________________________________________\n",
            "leaky_re_lu_63 (LeakyReLU)      (None, 20, 20, 256)  0           batch_normalization_45[0][0]     \n",
            "__________________________________________________________________________________________________\n",
            "conv2d_transpose_2 (Conv2DTrans (None, 80, 80, 128)  2097280     leaky_re_lu_63[0][0]             \n",
            "__________________________________________________________________________________________________\n",
            "batch_normalization_46 (BatchNo (None, 80, 80, 128)  512         conv2d_transpose_2[0][0]         \n",
            "__________________________________________________________________________________________________\n",
            "leaky_re_lu_64 (LeakyReLU)      (None, 80, 80, 128)  0           batch_normalization_46[0][0]     \n",
            "__________________________________________________________________________________________________\n",
            "conv2d_60 (Conv2D)              (None, 80, 80, 1)    129         leaky_re_lu_64[0][0]             \n",
            "__________________________________________________________________________________________________\n",
            "up_sampling2d_2 (UpSampling2D)  (None, 320, 320, 1)  0           conv2d_60[0][0]                  \n",
            "==================================================================================================\n",
            "Total params: 14,957,729\n",
            "Trainable params: 14,947,297\n",
            "Non-trainable params: 10,432\n",
            "__________________________________________________________________________________________________\n",
            "None\n"
          ],
          "name": "stdout"
        }
      ]
    },
    {
      "cell_type": "markdown",
      "metadata": {
        "id": "xBK9uuuokCIt",
        "colab_type": "text"
      },
      "source": [
        ""
      ]
    },
    {
      "cell_type": "code",
      "metadata": {
        "id": "XbmQqqUgjLas",
        "colab_type": "code",
        "outputId": "6e093153-6dfb-4f2f-c46d-bb8962947fc3",
        "colab": {
          "base_uri": "https://localhost:8080/",
          "height": 126
        }
      },
      "source": [
        "\n",
        "history = model.fit_generator(train_gen, validation_data=valid_gen, epochs=3, shuffle=True)"
      ],
      "execution_count": 0,
      "outputs": [
        {
          "output_type": "stream",
          "text": [
            "Epoch 1/3\n",
            "125/125 [==============================] - 3275s 26s/step - loss: 0.5635 - acc: 0.9505 - mean_iou: 0.6668\n",
            "Epoch 2/3\n",
            "125/125 [==============================] - 3216s 26s/step - loss: 0.5381 - acc: 0.9442 - mean_iou: 0.5673\n",
            "Epoch 3/3\n",
            "125/125 [==============================] - 3232s 26s/step - loss: 0.5226 - acc: 0.9435 - mean_iou: 0.5836\n"
          ],
          "name": "stdout"
        }
      ]
    },
    {
      "cell_type": "code",
      "metadata": {
        "id": "TCN5GsBJktEh",
        "colab_type": "code",
        "outputId": "2a85b42b-15c9-4799-8808-735275ea66ff",
        "colab": {
          "base_uri": "https://localhost:8080/",
          "height": 283
        }
      },
      "source": [
        "# Graphical Representation of Training loss \n",
        "plt.figure(figsize = (12,4))\n",
        "\n",
        "plt.subplot(131)\n",
        "plt.plot(history.epoch,history.history[\"loss\"],label = \"Training Loss\")\n",
        "plt.legend()\n",
        "\n",
        "plt.subplot(132)\n",
        "plt.plot(history.epoch,history.history[\"acc\"],label = \"Training Accuracy\")\n",
        "plt.legend()\n",
        "\n",
        "plt.subplot(133)\n",
        "plt.plot(history.epoch,history.history[\"mean_iou\"],label = \"Training IOU\")\n",
        "plt.legend()\n"
      ],
      "execution_count": 0,
      "outputs": [
        {
          "output_type": "execute_result",
          "data": {
            "text/plain": [
              "<matplotlib.legend.Legend at 0x7ffb09535f98>"
            ]
          },
          "metadata": {
            "tags": []
          },
          "execution_count": 42
        },
        {
          "output_type": "display_data",
          "data": {
            "image/png": "[encoded data removed]",
            "text/plain": [
              "<Figure size 864x288 with 3 Axes>"
            ]
          },
          "metadata": {
            "tags": []
          }
        }
      ]
    },
    {
      "cell_type": "code",
      "metadata": {
        "id": "HYJpa87Nig0j",
        "colab_type": "code",
        "outputId": "dfb0af6b-b710-4dbd-e176-abcb6cad9bfd",
        "colab": {
          "base_uri": "https://localhost:8080/",
          "height": 72
        }
      },
      "source": [
        "history.history"
      ],
      "execution_count": 0,
      "outputs": [
        {
          "output_type": "execute_result",
          "data": {
            "text/plain": [
              "{'acc': [0.9505023083686829, 0.9441606364250184, 0.9434799780845642],\n",
              " 'loss': [0.5635299186706543, 0.5380816028118134, 0.5226160132884979],\n",
              " 'mean_iou': [0.6668321264460683, 0.5672755205631256, 0.5835617179870606]}"
            ]
          },
          "metadata": {
            "tags": []
          },
          "execution_count": 45
        }
      ]
    },
    {
      "cell_type": "code",
      "metadata": {
        "id": "XvE6kE4jGgi3",
        "colab_type": "code",
        "outputId": "df3d5357-5099-4383-d275-3c04c4d506e8",
        "colab": {
          "base_uri": "https://localhost:8080/",
          "height": 54
        }
      },
      "source": [
        "# Listing Test Images and Reading and Preciting the Output Probability and Bounding Box \n",
        "test_images = '/content/stage_2_test_images'\n",
        "test_files = os.listdir(test_images)\n",
        "print('n test samples:', len(test_files))\n",
        "\n",
        "# creating test data generator \n",
        "test_gen = data_generator(test_images, test_files, None, batch_size=20, image_size=image_size, shuffle=False, predict=True)\n",
        "\n",
        "# create submission dictionary\n",
        "sub_dict = {}\n",
        "# loop through testset\n",
        "for imgs, filenames in test_gen:\n",
        "    # predict batch of images\n",
        "    pred = model.predict(imgs)\n",
        "    # loop through batch\n",
        "    for pred, filename in zip(pred, filenames):\n",
        "        # resize predicted mask\n",
        "        pred = resize(pred, (1024, 1024), mode='reflect')\n",
        "        # threshold predicted mask\n",
        "        comp = pred[:, :, 0] > 0.5\n",
        "        # apply connected components\n",
        "        comp = measure.label(comp)\n",
        "        # apply bounding boxes\n",
        "        predictionString = ''\n",
        "        for region in measure.regionprops(comp):\n",
        "            # retrieve x, y, height and width\n",
        "            y, x, y2, x2 = region.bbox\n",
        "            height = y2 - y\n",
        "            width = x2 - x\n",
        "            # proxy for confidence score\n",
        "            conf = np.mean(pred[y:y+height, x:x+width])\n",
        "            # add to predictionString\n",
        "            predictionString += str(conf) + ' ' + str(x) + ' ' + str(y) + ' ' + str(width) + ' ' + str(height) + ' '\n",
        "        # add filename and predictionString to dictionary\n",
        "        filename = filename.split('.')[0]\n",
        "        sub_dict[filename] = predictionString\n",
        "    # stop if we've got them all\n",
        "    if len(sub_dict) >= len(test_files):\n",
        "        break\n",
        "        \n",
        "print(\"Done predicting...\")\n",
        "        \n",
        "# save dictionary as csv file\n",
        "sub = pd.DataFrame.from_dict(sub_dict,orient='index')\n",
        "sub.index.names = ['patientId']\n",
        "sub.columns = ['PredictionString']\n",
        "sub.to_csv('test_prediction_submission.csv')"
      ],
      "execution_count": 0,
      "outputs": [
        {
          "output_type": "stream",
          "text": [
            "n test samples: 3000\n",
            "Done predicting...\n"
          ],
          "name": "stdout"
        }
      ]
    },
    {
      "cell_type": "code",
      "metadata": {
        "id": "q4cVpWjJI_Pt",
        "colab_type": "code",
        "outputId": "2e7494c6-5bee-4dd5-90a1-ba13ec78701f",
        "colab": {
          "base_uri": "https://localhost:8080/",
          "height": 35
        }
      },
      "source": [
        "model_json = model.to_json()\n",
        "with open(\"model.json\", \"w\") as json_file:\n",
        "    json_file.write(model_json)\n",
        "# serialize weights to HDF5\n",
        "model.save_weights(\"model.h5\") #.pckl\n",
        "print(\"Saved model to disk\")"
      ],
      "execution_count": 0,
      "outputs": [
        {
          "output_type": "stream",
          "text": [
            "Saved model to disk\n"
          ],
          "name": "stdout"
        }
      ]
    },
    {
      "cell_type": "code",
      "metadata": {
        "id": "maHAEgLBJa6W",
        "colab_type": "code",
        "outputId": "2b56afa6-8f27-410b-ed35-c35622df3585",
        "colab": {
          "base_uri": "https://localhost:8080/",
          "height": 35
        }
      },
      "source": [
        "# loading json and creating model\n",
        "json_file = open('model.json', 'r')\n",
        "loaded_model_json = json_file.read()\n",
        "json_file.close()\n",
        "loaded_model = model_from_json(loaded_model_json)\n",
        "# loading weights into new model\n",
        "loaded_model.load_weights(\"model.h5\")\n",
        "print(\"Loaded model from disk\")"
      ],
      "execution_count": 0,
      "outputs": [
        {
          "output_type": "stream",
          "text": [
            "Loaded model from disk\n"
          ],
          "name": "stdout"
        }
      ]
    },
    {
      "cell_type": "code",
      "metadata": {
        "id": "xsN1_Rt2jmez",
        "colab_type": "code",
        "colab": {}
      },
      "source": [
        ""
      ],
      "execution_count": 0,
      "outputs": []
    }
  ]
}